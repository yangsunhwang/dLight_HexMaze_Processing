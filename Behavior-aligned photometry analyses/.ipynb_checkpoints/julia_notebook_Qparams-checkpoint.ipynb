{
 "cells": [
  {
   "cell_type": "code",
   "execution_count": 1,
   "id": "df5ce9f1-903c-4003-9c30-f2fddbaa4421",
   "metadata": {},
   "outputs": [
    {
     "name": "stdout",
     "output_type": "stream",
     "text": [
      "\u001b[32m\u001b[1mStatus\u001b[22m\u001b[39m `C:\\Users\\j2fig\\.julia\\environments\\v1.10\\Project.toml`\n",
      "\u001b[32m⌃\u001b[39m \u001b[90m[336ed68f] \u001b[39mCSV v0.10.13\n",
      "  \u001b[90m[8f4d0f93] \u001b[39mConda v1.10.0\n",
      "  \u001b[90m[a93c6f00] \u001b[39mDataFrames v1.6.1\n",
      "  \u001b[90m[31c24e10] \u001b[39mDistributions v0.25.107\n",
      "  \u001b[90m[26e51405] \u001b[39mEM v0.1.0 `https://github.com/ndawlab/em.git/#master`\n",
      "  \u001b[90m[f6369f11] \u001b[39mForwardDiff v0.10.36\n",
      "  \u001b[90m[38e38edf] \u001b[39mGLM v1.9.0\n",
      "  \u001b[90m[7073ff75] \u001b[39mIJulia v1.24.2\n",
      "  \u001b[90m[429524aa] \u001b[39mOptim v1.9.4\n",
      "  \u001b[90m[d330b81b] \u001b[39mPyPlot v2.11.2\n",
      "  \u001b[90m[276daf66] \u001b[39mSpecialFunctions v2.3.1\n",
      "  \u001b[90m[4c63d2b9] \u001b[39mStatsFuns v1.3.1\n",
      "  \u001b[90m[37e2e46d] \u001b[39mLinearAlgebra\n",
      "  \u001b[90m[10745b16] \u001b[39mStatistics v1.10.0\n",
      "\u001b[36m\u001b[1mInfo\u001b[22m\u001b[39m Packages marked with \u001b[32m⌃\u001b[39m have new versions available and may be upgradable.\n"
     ]
    }
   ],
   "source": [
    "using Pkg\n",
    "Pkg.status()"
   ]
  },
  {
   "cell_type": "code",
   "execution_count": 3,
   "id": "a7d7df46-bb79-4104-a964-a5333ac0cb0e",
   "metadata": {},
   "outputs": [
    {
     "name": "stderr",
     "output_type": "stream",
     "text": [
      "\u001b[32m\u001b[1m   Resolving\u001b[22m\u001b[39m package versions...\n",
      "\u001b[32m\u001b[1m  No Changes\u001b[22m\u001b[39m to `C:\\Users\\j2fig\\.julia\\environments\\v1.10\\Project.toml`\n",
      "\u001b[32m\u001b[1m  No Changes\u001b[22m\u001b[39m to `C:\\Users\\j2fig\\.julia\\environments\\v1.10\\Manifest.toml`\n",
      "\u001b[32m\u001b[1m   Resolving\u001b[22m\u001b[39m package versions...\n",
      "\u001b[32m\u001b[1m  No Changes\u001b[22m\u001b[39m to `C:\\Users\\j2fig\\.julia\\environments\\v1.10\\Project.toml`\n",
      "\u001b[32m\u001b[1m  No Changes\u001b[22m\u001b[39m to `C:\\Users\\j2fig\\.julia\\environments\\v1.10\\Manifest.toml`\n",
      "\u001b[32m\u001b[1m   Resolving\u001b[22m\u001b[39m package versions...\n",
      "\u001b[32m\u001b[1m  No Changes\u001b[22m\u001b[39m to `C:\\Users\\j2fig\\.julia\\environments\\v1.10\\Project.toml`\n",
      "\u001b[32m\u001b[1m  No Changes\u001b[22m\u001b[39m to `C:\\Users\\j2fig\\.julia\\environments\\v1.10\\Manifest.toml`\n",
      "\u001b[32m\u001b[1m   Resolving\u001b[22m\u001b[39m package versions...\n",
      "\u001b[32m\u001b[1m  No Changes\u001b[22m\u001b[39m to `C:\\Users\\j2fig\\.julia\\environments\\v1.10\\Project.toml`\n",
      "\u001b[32m\u001b[1m  No Changes\u001b[22m\u001b[39m to `C:\\Users\\j2fig\\.julia\\environments\\v1.10\\Manifest.toml`\n",
      "\u001b[32m\u001b[1m   Resolving\u001b[22m\u001b[39m package versions...\n",
      "\u001b[32m\u001b[1m  No Changes\u001b[22m\u001b[39m to `C:\\Users\\j2fig\\.julia\\environments\\v1.10\\Project.toml`\n",
      "\u001b[32m\u001b[1m  No Changes\u001b[22m\u001b[39m to `C:\\Users\\j2fig\\.julia\\environments\\v1.10\\Manifest.toml`\n"
     ]
    },
    {
     "ename": "LoadError",
     "evalue": "The following package names could not be resolved:\n * likFuncs (not found in project, manifest or registry)\n\u001b[36m   Suggestions:\u001b[39m Simi\u001b[0m\u001b[1ml\u001b[22mar\u001b[0m\u001b[1mi\u001b[22mtyNetwor\u001b[0m\u001b[1mk\u001b[22m\u001b[0m\u001b[1mF\u001b[22m\u001b[0m\u001b[1mu\u001b[22msio\u001b[0m\u001b[1mn\u001b[22m",
     "output_type": "error",
     "traceback": [
      "The following package names could not be resolved:\n * likFuncs (not found in project, manifest or registry)\n\u001b[36m   Suggestions:\u001b[39m Simi\u001b[0m\u001b[1ml\u001b[22mar\u001b[0m\u001b[1mi\u001b[22mtyNetwor\u001b[0m\u001b[1mk\u001b[22m\u001b[0m\u001b[1mF\u001b[22m\u001b[0m\u001b[1mu\u001b[22msio\u001b[0m\u001b[1mn\u001b[22m",
      "",
      "Stacktrace:",
      " [1] pkgerror(msg::String)",
      "   @ Pkg.Types C:\\Users\\j2fig\\.julia\\juliaup\\julia-1.10.2+0.x64.w64.mingw32\\share\\julia\\stdlib\\v1.10\\Pkg\\src\\Types.jl:70",
      " [2] ensure_resolved(ctx::Pkg.Types.Context, manifest::Pkg.Types.Manifest, pkgs::Vector{Pkg.Types.PackageSpec}; registry::Bool)",
      "   @ Pkg.Types C:\\Users\\j2fig\\.julia\\juliaup\\julia-1.10.2+0.x64.w64.mingw32\\share\\julia\\stdlib\\v1.10\\Pkg\\src\\Types.jl:1030",
      " [3] ensure_resolved",
      "   @ C:\\Users\\j2fig\\.julia\\juliaup\\julia-1.10.2+0.x64.w64.mingw32\\share\\julia\\stdlib\\v1.10\\Pkg\\src\\Types.jl:981 [inlined]",
      " [4] add(ctx::Pkg.Types.Context, pkgs::Vector{Pkg.Types.PackageSpec}; preserve::Pkg.Types.PreserveLevel, platform::Base.BinaryPlatforms.Platform, kwargs::@Kwargs{io::IJulia.IJuliaStdio{Base.PipeEndpoint}})",
      "   @ Pkg.API C:\\Users\\j2fig\\.julia\\juliaup\\julia-1.10.2+0.x64.w64.mingw32\\share\\julia\\stdlib\\v1.10\\Pkg\\src\\API.jl:267",
      " [5] add(pkgs::Vector{Pkg.Types.PackageSpec}; io::IJulia.IJuliaStdio{Base.PipeEndpoint}, kwargs::@Kwargs{})",
      "   @ Pkg.API C:\\Users\\j2fig\\.julia\\juliaup\\julia-1.10.2+0.x64.w64.mingw32\\share\\julia\\stdlib\\v1.10\\Pkg\\src\\API.jl:159",
      " [6] add(pkgs::Vector{Pkg.Types.PackageSpec})",
      "   @ Pkg.API C:\\Users\\j2fig\\.julia\\juliaup\\julia-1.10.2+0.x64.w64.mingw32\\share\\julia\\stdlib\\v1.10\\Pkg\\src\\API.jl:148",
      " [7] add",
      "   @ C:\\Users\\j2fig\\.julia\\juliaup\\julia-1.10.2+0.x64.w64.mingw32\\share\\julia\\stdlib\\v1.10\\Pkg\\src\\API.jl:147 [inlined]",
      " [8] add(pkg::String)",
      "   @ Pkg.API C:\\Users\\j2fig\\.julia\\juliaup\\julia-1.10.2+0.x64.w64.mingw32\\share\\julia\\stdlib\\v1.10\\Pkg\\src\\API.jl:146",
      " [9] top-level scope",
      "   @ In[3]:5"
     ]
    }
   ],
   "source": [
    "import Pkg; Pkg.add(\"CSV\")\n",
    "import Pkg; Pkg.add(\"PyPlot\")\n",
    "import Pkg; Pkg.add(\"Conda\")\n",
    "import Pkg; Pkg.add(\"SpecialFunctions\")\n",
    "import Pkg; Pkg.add(\"StatsFuns\")\n",
    "import Pkg; Pkg.add(\"likFuncs\")"
   ]
  },
  {
   "cell_type": "code",
   "execution_count": 4,
   "id": "4acf5219-f4a7-4dc4-8899-95ef40c7840a",
   "metadata": {},
   "outputs": [
    {
     "name": "stderr",
     "output_type": "stream",
     "text": [
      "\u001b[36m\u001b[1m[ \u001b[22m\u001b[39m\u001b[36m\u001b[1mInfo: \u001b[22m\u001b[39mRunning `conda install -y matplotlib` in root environment\n"
     ]
    },
    {
     "name": "stdout",
     "output_type": "stream",
     "text": [
      "Channels:\n",
      " - defaults\n",
      " - conda-forge\n",
      "Platform: win-64\n",
      "Collecting package metadata (repodata.json): ...working... done\n",
      "Solving environment: ...working... done\n"
     ]
    },
    {
     "name": "stderr",
     "output_type": "stream",
     "text": [
      "\n",
      "\n",
      "==> WARNING: A newer version of conda exists. <==\n",
      "    current version: 24.1.2\n",
      "    latest version: 24.3.0\n",
      "\n",
      "Please update conda by running\n",
      "\n",
      "    $ conda update -n base -c conda-forge conda\n",
      "\n",
      "\n"
     ]
    },
    {
     "name": "stdout",
     "output_type": "stream",
     "text": [
      "\n",
      "# All requested packages already installed.\n",
      "\n"
     ]
    },
    {
     "name": "stderr",
     "output_type": "stream",
     "text": [
      "\u001b[36m\u001b[1m[ \u001b[22m\u001b[39m\u001b[36m\u001b[1mInfo: \u001b[22m\u001b[39mInstalling matplotlib via the Conda matplotlib package...\n",
      "\u001b[36m\u001b[1m[ \u001b[22m\u001b[39m\u001b[36m\u001b[1mInfo: \u001b[22m\u001b[39mRunning `conda install -y matplotlib` in root environment\n"
     ]
    },
    {
     "name": "stdout",
     "output_type": "stream",
     "text": [
      "Channels:\n",
      " - defaults\n",
      " - conda-forge\n",
      "Platform: win-64\n",
      "Collecting package metadata (repodata.json): ...working... done\n",
      "Solving environment: ...working... done\n"
     ]
    },
    {
     "name": "stderr",
     "output_type": "stream",
     "text": [
      "\n",
      "\n",
      "==> WARNING: A newer version of conda exists. <==\n",
      "    current version: 24.1.2\n",
      "    latest version: 24.3.0\n",
      "\n",
      "Please update conda by running\n",
      "\n",
      "    $ conda update -n base -c conda-forge conda\n",
      "\n",
      "\n"
     ]
    },
    {
     "name": "stdout",
     "output_type": "stream",
     "text": [
      "\n",
      "# All requested packages already installed.\n",
      "\n"
     ]
    },
    {
     "ename": "LoadError",
     "evalue": "InitError: PyError (PyImport_ImportModule\n\nThe Python package matplotlib could not be imported by pyimport. Usually this means\nthat you did not install matplotlib in the Python version being used by PyCall.\n\nPyCall is currently configured to use the Julia-specific Python distribution\ninstalled by the Conda.jl package.  To install the matplotlib module, you can\nuse `pyimport_conda(\"matplotlib\", PKG)`, where PKG is the Anaconda\npackage that contains the module matplotlib, or alternatively you can use the\nConda package directly (via `using Conda` followed by `Conda.add` etcetera).\n\nAlternatively, if you want to use a different Python distribution on your\nsystem, such as a system-wide Python (as opposed to the Julia-specific Python),\nyou can re-configure PyCall with that Python.   As explained in the PyCall\ndocumentation, set ENV[\"PYTHON\"] to the path/name of the python executable\nyou want to use, run Pkg.build(\"PyCall\"), and re-launch Julia.\n\n) <class 'ImportError'>\nImportError('DLL load failed while importing _imaging: The specified module could not be found.')\n  File \"C:\\Users\\j2fig\\.julia\\conda\\3\\x86_64\\lib\\site-packages\\matplotlib\\__init__.py\", line 161, in <module>\n    from . import _api, _version, cbook, _docstring, rcsetup\n  File \"C:\\Users\\j2fig\\.julia\\conda\\3\\x86_64\\lib\\site-packages\\matplotlib\\rcsetup.py\", line 27, in <module>\n    from matplotlib.colors import Colormap, is_color_like\n  File \"C:\\Users\\j2fig\\.julia\\conda\\3\\x86_64\\lib\\site-packages\\matplotlib\\colors.py\", line 52, in <module>\n    from PIL import Image\n  File \"C:\\Users\\j2fig\\.julia\\conda\\3\\x86_64\\lib\\site-packages\\PIL\\Image.py\", line 84, in <module>\n    from . import _imaging as core\n\nduring initialization of module PyPlot",
     "output_type": "error",
     "traceback": [
      "InitError: PyError (PyImport_ImportModule\n\nThe Python package matplotlib could not be imported by pyimport. Usually this means\nthat you did not install matplotlib in the Python version being used by PyCall.\n\nPyCall is currently configured to use the Julia-specific Python distribution\ninstalled by the Conda.jl package.  To install the matplotlib module, you can\nuse `pyimport_conda(\"matplotlib\", PKG)`, where PKG is the Anaconda\npackage that contains the module matplotlib, or alternatively you can use the\nConda package directly (via `using Conda` followed by `Conda.add` etcetera).\n\nAlternatively, if you want to use a different Python distribution on your\nsystem, such as a system-wide Python (as opposed to the Julia-specific Python),\nyou can re-configure PyCall with that Python.   As explained in the PyCall\ndocumentation, set ENV[\"PYTHON\"] to the path/name of the python executable\nyou want to use, run Pkg.build(\"PyCall\"), and re-launch Julia.\n\n) <class 'ImportError'>\nImportError('DLL load failed while importing _imaging: The specified module could not be found.')\n  File \"C:\\Users\\j2fig\\.julia\\conda\\3\\x86_64\\lib\\site-packages\\matplotlib\\__init__.py\", line 161, in <module>\n    from . import _api, _version, cbook, _docstring, rcsetup\n  File \"C:\\Users\\j2fig\\.julia\\conda\\3\\x86_64\\lib\\site-packages\\matplotlib\\rcsetup.py\", line 27, in <module>\n    from matplotlib.colors import Colormap, is_color_like\n  File \"C:\\Users\\j2fig\\.julia\\conda\\3\\x86_64\\lib\\site-packages\\matplotlib\\colors.py\", line 52, in <module>\n    from PIL import Image\n  File \"C:\\Users\\j2fig\\.julia\\conda\\3\\x86_64\\lib\\site-packages\\PIL\\Image.py\", line 84, in <module>\n    from . import _imaging as core\n\nduring initialization of module PyPlot",
      "",
      "Stacktrace:",
      "  [1] pyimport(name::String)",
      "    @ PyCall C:\\Users\\j2fig\\.julia\\packages\\PyCall\\1gn3u\\src\\PyCall.jl:558",
      "  [2] pyimport_conda(modulename::String, condapkg::String, channel::String)",
      "    @ PyCall C:\\Users\\j2fig\\.julia\\packages\\PyCall\\1gn3u\\src\\PyCall.jl:722",
      "  [3] pyimport_conda",
      "    @ C:\\Users\\j2fig\\.julia\\packages\\PyCall\\1gn3u\\src\\PyCall.jl:715 [inlined]",
      "  [4] __init__()",
      "    @ PyPlot C:\\Users\\j2fig\\.julia\\packages\\PyPlot\\2MlrT\\src\\init.jl:174",
      "  [5] run_module_init(mod::Module, i::Int64)",
      "    @ Base .\\loading.jl:1134",
      "  [6] register_restored_modules(sv::Core.SimpleVector, pkg::Base.PkgId, path::String)",
      "    @ Base .\\loading.jl:1122",
      "  [7] _include_from_serialized(pkg::Base.PkgId, path::String, ocachepath::String, depmods::Vector{Any})",
      "    @ Base .\\loading.jl:1067",
      "  [8] _require_search_from_serialized(pkg::Base.PkgId, sourcepath::String, build_id::UInt128)",
      "    @ Base .\\loading.jl:1581",
      "  [9] _require(pkg::Base.PkgId, env::String)",
      "    @ Base .\\loading.jl:1938",
      " [10] __require_prelocked(uuidkey::Base.PkgId, env::String)",
      "    @ Base .\\loading.jl:1812",
      " [11] #invoke_in_world#3",
      "    @ .\\essentials.jl:926 [inlined]",
      " [12] invoke_in_world",
      "    @ .\\essentials.jl:923 [inlined]",
      " [13] _require_prelocked(uuidkey::Base.PkgId, env::String)",
      "    @ Base .\\loading.jl:1803",
      " [14] macro expansion",
      "    @ .\\loading.jl:1790 [inlined]",
      " [15] macro expansion",
      "    @ .\\lock.jl:267 [inlined]",
      " [16] __require(into::Module, mod::Symbol)",
      "    @ Base .\\loading.jl:1753",
      " [17] #invoke_in_world#3",
      "    @ .\\essentials.jl:926 [inlined]",
      " [18] invoke_in_world",
      "    @ .\\essentials.jl:923 [inlined]",
      " [19] require(into::Module, mod::Symbol)",
      "    @ Base .\\loading.jl:1746"
     ]
    }
   ],
   "source": [
    "using Conda\n",
    "Conda.add(\"matplotlib\")\n",
    "#pyimport_conda(\"matplotlib\", PKG)\n",
    "\n",
    "using CSV\n",
    "using PyPlot\n",
    "using DataFrames\n",
    "using SpecialFunctions:erf\n",
    "using StatsFuns:logsumexp,logistic"
   ]
  },
  {
   "cell_type": "code",
   "execution_count": 5,
   "id": "401b415b-44eb-4b74-a2f2-a1c66dfd0c90",
   "metadata": {},
   "outputs": [
    {
     "name": "stderr",
     "output_type": "stream",
     "text": [
      "\u001b[32m\u001b[1m   Resolving\u001b[22m\u001b[39m package versions...\n",
      "\u001b[32m\u001b[1m  No Changes\u001b[22m\u001b[39m to `C:\\Users\\j2fig\\.julia\\environments\\v1.10\\Project.toml`\n",
      "\u001b[32m\u001b[1m  No Changes\u001b[22m\u001b[39m to `C:\\Users\\j2fig\\.julia\\environments\\v1.10\\Manifest.toml`\n"
     ]
    }
   ],
   "source": [
    "import Pkg\n",
    "Pkg.add([\"DataFrames\", \"ForwardDiff\", \"Optim\", \"LinearAlgebra\", \"StatsFuns\", \"SpecialFunctions\",\n",
    "         \"Statistics\", \"Distributions\", \"GLM\"])\n"
   ]
  },
  {
   "cell_type": "code",
   "execution_count": 31,
   "id": "a76ba595-96da-40f3-a91a-1209043339ad",
   "metadata": {},
   "outputs": [],
   "source": [
    "# module EM\n",
    "\n",
    "using DataFrames\n",
    "using ForwardDiff\n",
    "using Optim\n",
    "using LinearAlgebra       # for tr, diagonal\n",
    "using StatsFuns           # logsumexp\n",
    "using SpecialFunctions    # for erf\n",
    "using Statistics          # for mean\n",
    "using Distributions\t\t  # for tDist\n",
    "\n",
    "# export em,emerrors,lml,ibic,iaic,loocv,qlik,jianlik,seqlik,simq,simseq,simjian\n",
    "\n",
    "# include(\"emcore.jl\")\n",
    "# include(\"emutils.jl\")\n",
    "# include(\"emlikfuns.jl\")"
   ]
  },
  {
   "cell_type": "code",
   "execution_count": 7,
   "id": "e5991fcf-38a9-46be-a41f-210b5ac28660",
   "metadata": {},
   "outputs": [
    {
     "data": {
      "text/plain": [
       "0.001"
      ]
     },
     "execution_count": 7,
     "metadata": {},
     "output_type": "execute_result"
    }
   ],
   "source": [
    "full = false    # Maintain full covariance matrix (vs a diagional one) at the group level\n",
    "emtol = 1e-3    # stopping condition (relative change) for EM\n"
   ]
  },
  {
   "cell_type": "code",
   "execution_count": 8,
   "id": "71c8d76b-c383-48d5-9ec3-206830bc9316",
   "metadata": {},
   "outputs": [
    {
     "name": "stderr",
     "output_type": "stream",
     "text": [
      "\u001b[32m\u001b[1m    Updating\u001b[22m\u001b[39m git-repo `https://github.com/ndawlab/em.git`\n",
      "\u001b[32m\u001b[1m   Resolving\u001b[22m\u001b[39m package versions...\n",
      "\u001b[32m\u001b[1m  No Changes\u001b[22m\u001b[39m to `C:\\Users\\j2fig\\.julia\\environments\\v1.10\\Project.toml`\n",
      "\u001b[32m\u001b[1m  No Changes\u001b[22m\u001b[39m to `C:\\Users\\j2fig\\.julia\\environments\\v1.10\\Manifest.toml`\n",
      "\u001b[32m\u001b[1m     Cloning\u001b[22m\u001b[39m git-repo `https://github.com/Berke-lab/DA_maze/tree/main/RL/Modules.git`\n"
     ]
    },
    {
     "ename": "LoadError",
     "evalue": "failed to clone from https://github.com/Berke-lab/DA_maze/tree/main/RL/Modules.git, error: GitError(Code:ERROR, Class:HTTP, request failed with status code: 404)",
     "output_type": "error",
     "traceback": [
      "failed to clone from https://github.com/Berke-lab/DA_maze/tree/main/RL/Modules.git, error: GitError(Code:ERROR, Class:HTTP, request failed with status code: 404)",
      "",
      "Stacktrace:",
      "  [1] pkgerror(msg::String)",
      "    @ Pkg.Types C:\\Users\\j2fig\\.julia\\juliaup\\julia-1.10.2+0.x64.w64.mingw32\\share\\julia\\stdlib\\v1.10\\Pkg\\src\\Types.jl:70",
      "  [2] clone(io::IJulia.IJuliaStdio{Base.PipeEndpoint}, url::String, source_path::String; header::Nothing, credentials::Nothing, kwargs::@Kwargs{isbare::Bool})",
      "    @ Pkg.GitTools C:\\Users\\j2fig\\.julia\\juliaup\\julia-1.10.2+0.x64.w64.mingw32\\share\\julia\\stdlib\\v1.10\\Pkg\\src\\GitTools.jl:132",
      "  [3] clone",
      "    @ C:\\Users\\j2fig\\.julia\\juliaup\\julia-1.10.2+0.x64.w64.mingw32\\share\\julia\\stdlib\\v1.10\\Pkg\\src\\GitTools.jl:88 [inlined]",
      "  [4] #ensure_clone#2",
      "    @ C:\\Users\\j2fig\\.julia\\juliaup\\julia-1.10.2+0.x64.w64.mingw32\\share\\julia\\stdlib\\v1.10\\Pkg\\src\\GitTools.jl:74 [inlined]",
      "  [5] handle_repo_add!(ctx::Pkg.Types.Context, pkg::Pkg.Types.PackageSpec)",
      "    @ Pkg.Types C:\\Users\\j2fig\\.julia\\juliaup\\julia-1.10.2+0.x64.w64.mingw32\\share\\julia\\stdlib\\v1.10\\Pkg\\src\\Types.jl:782",
      "  [6] handle_repos_add!(ctx::Pkg.Types.Context, pkgs::Vector{Pkg.Types.PackageSpec})",
      "    @ Pkg.Types C:\\Users\\j2fig\\.julia\\juliaup\\julia-1.10.2+0.x64.w64.mingw32\\share\\julia\\stdlib\\v1.10\\Pkg\\src\\Types.jl:852",
      "  [7] add(ctx::Pkg.Types.Context, pkgs::Vector{Pkg.Types.PackageSpec}; preserve::Pkg.Types.PreserveLevel, platform::Base.BinaryPlatforms.Platform, kwargs::@Kwargs{io::IJulia.IJuliaStdio{Base.PipeEndpoint}})",
      "    @ Pkg.API C:\\Users\\j2fig\\.julia\\juliaup\\julia-1.10.2+0.x64.w64.mingw32\\share\\julia\\stdlib\\v1.10\\Pkg\\src\\API.jl:258",
      "  [8] add(pkgs::Vector{Pkg.Types.PackageSpec}; io::IJulia.IJuliaStdio{Base.PipeEndpoint}, kwargs::@Kwargs{})",
      "    @ Pkg.API C:\\Users\\j2fig\\.julia\\juliaup\\julia-1.10.2+0.x64.w64.mingw32\\share\\julia\\stdlib\\v1.10\\Pkg\\src\\API.jl:159",
      "  [9] add(pkgs::Vector{Pkg.Types.PackageSpec})",
      "    @ Pkg.API C:\\Users\\j2fig\\.julia\\juliaup\\julia-1.10.2+0.x64.w64.mingw32\\share\\julia\\stdlib\\v1.10\\Pkg\\src\\API.jl:148",
      " [10] add",
      "    @ C:\\Users\\j2fig\\.julia\\juliaup\\julia-1.10.2+0.x64.w64.mingw32\\share\\julia\\stdlib\\v1.10\\Pkg\\src\\API.jl:146 [inlined]",
      " [11] add(; name::Nothing, uuid::Nothing, version::Nothing, url::String, rev::Nothing, path::Nothing, mode::Pkg.Types.PackageMode, subdir::Nothing, kwargs::@Kwargs{})",
      "    @ Pkg.API C:\\Users\\j2fig\\.julia\\juliaup\\julia-1.10.2+0.x64.w64.mingw32\\share\\julia\\stdlib\\v1.10\\Pkg\\src\\API.jl:176",
      " [12] top-level scope",
      "    @ In[8]:3"
     ]
    }
   ],
   "source": [
    "import Pkg\n",
    "Pkg.add(url=\"https://github.com/ndawlab/em.git/\")"
   ]
  },
  {
   "cell_type": "code",
   "execution_count": 9,
   "id": "fc110576-666b-4e5c-88b5-c165fcdbb0ad",
   "metadata": {},
   "outputs": [],
   "source": [
    "cd(\"T:\\\\EM code\")"
   ]
  },
  {
   "cell_type": "code",
   "execution_count": 18,
   "id": "e324c31a-bb5a-483e-9bc2-b33f44147234",
   "metadata": {},
   "outputs": [],
   "source": [
    "push!(LOAD_PATH,\"T:\\\\EM code\")\n",
    "using EM\n",
    "# load the EM library\n",
    "\n",
    "full = false    # Maintain full covariance matrix (vs a diagional one) at the group level\n",
    "emtol = 1e-2    # stopping condition (relative change) for EM\n",
    "\n",
    "em_directory = @__DIR__ #directory where EM functions are stored, from Daw lab.\n",
    "\n",
    "push!(LOAD_PATH,\"T:\\\\EM code\")\n",
    "using EM\n",
    "\n",
    "# #load the likelihood functions\n",
    "# lik_directory = @__DIR__ #directory where likelihood functions are stored, from modules folder.\n",
    "\n",
    "# push!(LOAD_PATH,lik_directory)\n",
    "# using likFuncs\n",
    "     "
   ]
  },
  {
   "cell_type": "code",
   "execution_count": 19,
   "id": "6b576cd2-5a2a-4551-aab6-b8ba5138bb8d",
   "metadata": {},
   "outputs": [
    {
     "data": {
      "text/html": [
       "<div><div style = \"float: left;\"><span>153×34 DataFrame</span></div><div style = \"float: right;\"><span style = \"font-style: italic;\">128 rows omitted</span></div><div style = \"clear: both;\"></div></div><div class = \"data-frame\" style = \"overflow-x: scroll;\"><table class = \"data-frame\" style = \"margin-bottom: 6px;\"><thead><tr class = \"header\"><th class = \"rowNumber\" style = \"font-weight: bold; text-align: right;\">Row</th><th style = \"text-align: left;\">Column1</th><th style = \"text-align: left;\">index</th><th style = \"text-align: left;\">x</th><th style = \"text-align: left;\">y</th><th style = \"text-align: left;\">green</th><th style = \"text-align: left;\">port</th><th style = \"text-align: left;\">rwd</th><th style = \"text-align: left;\">block</th><th style = \"text-align: left;\">pA</th><th style = \"text-align: left;\">pB</th><th style = \"text-align: left;\">pC</th><th style = \"text-align: left;\">frame</th><th style = \"text-align: left;\">ref</th><th style = \"text-align: left;\">vel</th><th style = \"text-align: left;\">acc</th><th style = \"text-align: left;\">tri</th><th style = \"text-align: left;\">fromP</th><th style = \"text-align: left;\">470</th><th style = \"text-align: left;\">beamA</th><th style = \"text-align: left;\">beamB</th><th style = \"text-align: left;\">beamC</th><th style = \"text-align: left;\">tot_tri</th><th style = \"text-align: left;\">green_z_scored</th><th style = \"text-align: left;\">fiberloc</th><th style = \"text-align: left;\">session_type</th><th style = \"text-align: left;\">rat</th><th style = \"text-align: left;\">date</th><th style = \"text-align: left;\">nextp</th><th style = \"text-align: left;\">lrchoice</th><th style = \"text-align: left;\">lenAC</th><th style = \"text-align: left;\">lenBC</th><th style = \"text-align: left;\">lenAB</th><th style = \"text-align: left;\">sub</th><th style = \"text-align: left;\">currentport</th></tr><tr class = \"subheader headerLastRow\"><th class = \"rowNumber\" style = \"font-weight: bold; text-align: right;\"></th><th title = \"Int64\" style = \"text-align: left;\">Int64</th><th title = \"Int64\" style = \"text-align: left;\">Int64</th><th title = \"Union{Missing, Float64}\" style = \"text-align: left;\">Float64?</th><th title = \"Union{Missing, Float64}\" style = \"text-align: left;\">Float64?</th><th title = \"Float64\" style = \"text-align: left;\">Float64</th><th title = \"Int8\" style = \"text-align: left;\">Int8</th><th title = \"Float64\" style = \"text-align: left;\">Float64</th><th title = \"Float64\" style = \"text-align: left;\">Float64</th><th title = \"Float64\" style = \"text-align: left;\">Float64</th><th title = \"Float64\" style = \"text-align: left;\">Float64</th><th title = \"Float64\" style = \"text-align: left;\">Float64</th><th title = \"Float64\" style = \"text-align: left;\">Float64</th><th title = \"Float64\" style = \"text-align: left;\">Float64</th><th title = \"Union{Missing, Float64}\" style = \"text-align: left;\">Float64?</th><th title = \"Union{Missing, Float64}\" style = \"text-align: left;\">Float64?</th><th title = \"Float64\" style = \"text-align: left;\">Float64</th><th title = \"Float64\" style = \"text-align: left;\">Float64</th><th title = \"Float64\" style = \"text-align: left;\">Float64</th><th title = \"Missing\" style = \"text-align: left;\">Missing</th><th title = \"Missing\" style = \"text-align: left;\">Missing</th><th title = \"Missing\" style = \"text-align: left;\">Missing</th><th title = \"Missing\" style = \"text-align: left;\">Missing</th><th title = \"Float64\" style = \"text-align: left;\">Float64</th><th title = \"String15\" style = \"text-align: left;\">String15</th><th title = \"String7\" style = \"text-align: left;\">String7</th><th title = \"String31\" style = \"text-align: left;\">String31</th><th title = \"String15\" style = \"text-align: left;\">String15</th><th title = \"Float64\" style = \"text-align: left;\">Float64</th><th title = \"Int64\" style = \"text-align: left;\">Int64</th><th title = \"Int64\" style = \"text-align: left;\">Int64</th><th title = \"Int64\" style = \"text-align: left;\">Int64</th><th title = \"Int64\" style = \"text-align: left;\">Int64</th><th title = \"String31\" style = \"text-align: left;\">String31</th><th title = \"Int64\" style = \"text-align: left;\">Int64</th></tr></thead><tbody><tr><td class = \"rowNumber\" style = \"font-weight: bold; text-align: right;\">1</td><td style = \"text-align: right;\">0</td><td style = \"text-align: right;\">9326</td><td style = \"font-style: italic; text-align: right;\">missing</td><td style = \"font-style: italic; text-align: right;\">missing</td><td style = \"text-align: right;\">-0.330921</td><td style = \"text-align: right;\">3</td><td style = \"text-align: right;\">1.0</td><td style = \"text-align: right;\">1.0</td><td style = \"text-align: right;\">50.0</td><td style = \"text-align: right;\">10.0</td><td style = \"text-align: right;\">90.0</td><td style = \"text-align: right;\">9312.0</td><td style = \"text-align: right;\">5.51268</td><td style = \"font-style: italic; text-align: right;\">missing</td><td style = \"font-style: italic; text-align: right;\">missing</td><td style = \"text-align: right;\">0.0</td><td style = \"text-align: right;\">0.0</td><td style = \"text-align: right;\">1.04153e6</td><td style = \"font-style: italic; text-align: right;\">missing</td><td style = \"font-style: italic; text-align: right;\">missing</td><td style = \"font-style: italic; text-align: right;\">missing</td><td style = \"font-style: italic; text-align: right;\">missing</td><td style = \"text-align: right;\">-0.963313</td><td style = \"text-align: left;\">NAcc-Core-Right</td><td style = \"text-align: left;\">barrier</td><td style = \"text-align: left;\">80B8CE6 (Ceecee)</td><td style = \"text-align: left;\">03082024-L</td><td style = \"text-align: right;\">1.0</td><td style = \"text-align: right;\">3</td><td style = \"text-align: right;\">17</td><td style = \"text-align: right;\">19</td><td style = \"text-align: right;\">23</td><td style = \"text-align: left;\">80B8CE6 (Ceecee)</td><td style = \"text-align: right;\">0</td></tr><tr><td class = \"rowNumber\" style = \"font-weight: bold; text-align: right;\">2</td><td style = \"text-align: right;\">1</td><td style = \"text-align: right;\">15104</td><td style = \"font-style: italic; text-align: right;\">missing</td><td style = \"font-style: italic; text-align: right;\">missing</td><td style = \"text-align: right;\">-0.372752</td><td style = \"text-align: right;\">2</td><td style = \"text-align: right;\">0.0</td><td style = \"text-align: right;\">1.0</td><td style = \"text-align: right;\">50.0</td><td style = \"text-align: right;\">10.0</td><td style = \"text-align: right;\">90.0</td><td style = \"text-align: right;\">15083.0</td><td style = \"text-align: right;\">4.12937</td><td style = \"font-style: italic; text-align: right;\">missing</td><td style = \"font-style: italic; text-align: right;\">missing</td><td style = \"text-align: right;\">1.0</td><td style = \"text-align: right;\">2.0</td><td style = \"text-align: right;\">1.03174e6</td><td style = \"font-style: italic; text-align: right;\">missing</td><td style = \"font-style: italic; text-align: right;\">missing</td><td style = \"font-style: italic; text-align: right;\">missing</td><td style = \"font-style: italic; text-align: right;\">missing</td><td style = \"text-align: right;\">-1.08509</td><td style = \"text-align: left;\">NAcc-Core-Right</td><td style = \"text-align: left;\">barrier</td><td style = \"text-align: left;\">80B8CE6 (Ceecee)</td><td style = \"text-align: left;\">03082024-L</td><td style = \"text-align: right;\">2.0</td><td style = \"text-align: right;\">2</td><td style = \"text-align: right;\">17</td><td style = \"text-align: right;\">19</td><td style = \"text-align: right;\">23</td><td style = \"text-align: left;\">80B8CE6 (Ceecee)</td><td style = \"text-align: right;\">3</td></tr><tr><td class = \"rowNumber\" style = \"font-weight: bold; text-align: right;\">3</td><td style = \"text-align: right;\">2</td><td style = \"text-align: right;\">22889</td><td style = \"font-style: italic; text-align: right;\">missing</td><td style = \"font-style: italic; text-align: right;\">missing</td><td style = \"text-align: right;\">-0.210137</td><td style = \"text-align: right;\">3</td><td style = \"text-align: right;\">1.0</td><td style = \"text-align: right;\">1.0</td><td style = \"text-align: right;\">50.0</td><td style = \"text-align: right;\">10.0</td><td style = \"text-align: right;\">90.0</td><td style = \"text-align: right;\">22885.0</td><td style = \"text-align: right;\">2.25573</td><td style = \"font-style: italic; text-align: right;\">missing</td><td style = \"font-style: italic; text-align: right;\">missing</td><td style = \"text-align: right;\">2.0</td><td style = \"text-align: right;\">1.0</td><td style = \"text-align: right;\">1.02302e6</td><td style = \"font-style: italic; text-align: right;\">missing</td><td style = \"font-style: italic; text-align: right;\">missing</td><td style = \"font-style: italic; text-align: right;\">missing</td><td style = \"font-style: italic; text-align: right;\">missing</td><td style = \"text-align: right;\">-0.611712</td><td style = \"text-align: left;\">NAcc-Core-Right</td><td style = \"text-align: left;\">barrier</td><td style = \"text-align: left;\">80B8CE6 (Ceecee)</td><td style = \"text-align: left;\">03082024-L</td><td style = \"text-align: right;\">1.0</td><td style = \"text-align: right;\">1</td><td style = \"text-align: right;\">17</td><td style = \"text-align: right;\">19</td><td style = \"text-align: right;\">23</td><td style = \"text-align: left;\">80B8CE6 (Ceecee)</td><td style = \"text-align: right;\">2</td></tr><tr><td class = \"rowNumber\" style = \"font-weight: bold; text-align: right;\">4</td><td style = \"text-align: right;\">3</td><td style = \"text-align: right;\">31447</td><td style = \"font-style: italic; text-align: right;\">missing</td><td style = \"font-style: italic; text-align: right;\">missing</td><td style = \"text-align: right;\">-0.0456326</td><td style = \"text-align: right;\">2</td><td style = \"text-align: right;\">0.0</td><td style = \"text-align: right;\">1.0</td><td style = \"text-align: right;\">50.0</td><td style = \"text-align: right;\">10.0</td><td style = \"text-align: right;\">90.0</td><td style = \"text-align: right;\">31439.0</td><td style = \"text-align: right;\">1.19676</td><td style = \"font-style: italic; text-align: right;\">missing</td><td style = \"font-style: italic; text-align: right;\">missing</td><td style = \"text-align: right;\">3.0</td><td style = \"text-align: right;\">2.0</td><td style = \"text-align: right;\">1.01457e6</td><td style = \"font-style: italic; text-align: right;\">missing</td><td style = \"font-style: italic; text-align: right;\">missing</td><td style = \"font-style: italic; text-align: right;\">missing</td><td style = \"font-style: italic; text-align: right;\">missing</td><td style = \"text-align: right;\">-0.132837</td><td style = \"text-align: left;\">NAcc-Core-Right</td><td style = \"text-align: left;\">barrier</td><td style = \"text-align: left;\">80B8CE6 (Ceecee)</td><td style = \"text-align: left;\">03082024-L</td><td style = \"text-align: right;\">2.0</td><td style = \"text-align: right;\">2</td><td style = \"text-align: right;\">17</td><td style = \"text-align: right;\">19</td><td style = \"text-align: right;\">23</td><td style = \"text-align: left;\">80B8CE6 (Ceecee)</td><td style = \"text-align: right;\">3</td></tr><tr><td class = \"rowNumber\" style = \"font-weight: bold; text-align: right;\">5</td><td style = \"text-align: right;\">4</td><td style = \"text-align: right;\">36967</td><td style = \"font-style: italic; text-align: right;\">missing</td><td style = \"font-style: italic; text-align: right;\">missing</td><td style = \"text-align: right;\">0.0119699</td><td style = \"text-align: right;\">3</td><td style = \"text-align: right;\">1.0</td><td style = \"text-align: right;\">1.0</td><td style = \"text-align: right;\">50.0</td><td style = \"text-align: right;\">10.0</td><td style = \"text-align: right;\">90.0</td><td style = \"text-align: right;\">36947.0</td><td style = \"text-align: right;\">0.671737</td><td style = \"font-style: italic; text-align: right;\">missing</td><td style = \"font-style: italic; text-align: right;\">missing</td><td style = \"text-align: right;\">4.0</td><td style = \"text-align: right;\">1.0</td><td style = \"text-align: right;\">1.00675e6</td><td style = \"font-style: italic; text-align: right;\">missing</td><td style = \"font-style: italic; text-align: right;\">missing</td><td style = \"font-style: italic; text-align: right;\">missing</td><td style = \"font-style: italic; text-align: right;\">missing</td><td style = \"text-align: right;\">0.0348445</td><td style = \"text-align: left;\">NAcc-Core-Right</td><td style = \"text-align: left;\">barrier</td><td style = \"text-align: left;\">80B8CE6 (Ceecee)</td><td style = \"text-align: left;\">03082024-L</td><td style = \"text-align: right;\">1.0</td><td style = \"text-align: right;\">1</td><td style = \"text-align: right;\">17</td><td style = \"text-align: right;\">19</td><td style = \"text-align: right;\">23</td><td style = \"text-align: left;\">80B8CE6 (Ceecee)</td><td style = \"text-align: right;\">2</td></tr><tr><td class = \"rowNumber\" style = \"font-weight: bold; text-align: right;\">6</td><td style = \"text-align: right;\">5</td><td style = \"text-align: right;\">53711</td><td style = \"font-style: italic; text-align: right;\">missing</td><td style = \"font-style: italic; text-align: right;\">missing</td><td style = \"text-align: right;\">0.0308857</td><td style = \"text-align: right;\">2</td><td style = \"text-align: right;\">0.0</td><td style = \"text-align: right;\">1.0</td><td style = \"text-align: right;\">50.0</td><td style = \"text-align: right;\">10.0</td><td style = \"text-align: right;\">90.0</td><td style = \"text-align: right;\">53702.0</td><td style = \"text-align: right;\">0.0826735</td><td style = \"font-style: italic; text-align: right;\">missing</td><td style = \"font-style: italic; text-align: right;\">missing</td><td style = \"text-align: right;\">5.0</td><td style = \"text-align: right;\">2.0</td><td style = \"text-align: right;\">9.87105e5</td><td style = \"font-style: italic; text-align: right;\">missing</td><td style = \"font-style: italic; text-align: right;\">missing</td><td style = \"font-style: italic; text-align: right;\">missing</td><td style = \"font-style: italic; text-align: right;\">missing</td><td style = \"text-align: right;\">0.0899086</td><td style = \"text-align: left;\">NAcc-Core-Right</td><td style = \"text-align: left;\">barrier</td><td style = \"text-align: left;\">80B8CE6 (Ceecee)</td><td style = \"text-align: left;\">03082024-L</td><td style = \"text-align: right;\">0.0</td><td style = \"text-align: right;\">2</td><td style = \"text-align: right;\">17</td><td style = \"text-align: right;\">19</td><td style = \"text-align: right;\">23</td><td style = \"text-align: left;\">80B8CE6 (Ceecee)</td><td style = \"text-align: right;\">3</td></tr><tr><td class = \"rowNumber\" style = \"font-weight: bold; text-align: right;\">7</td><td style = \"text-align: right;\">6</td><td style = \"text-align: right;\">62402</td><td style = \"font-style: italic; text-align: right;\">missing</td><td style = \"font-style: italic; text-align: right;\">missing</td><td style = \"text-align: right;\">0.148416</td><td style = \"text-align: right;\">1</td><td style = \"text-align: right;\">1.0</td><td style = \"text-align: right;\">1.0</td><td style = \"text-align: right;\">50.0</td><td style = \"text-align: right;\">10.0</td><td style = \"text-align: right;\">90.0</td><td style = \"text-align: right;\">62392.0</td><td style = \"text-align: right;\">-0.459893</td><td style = \"font-style: italic; text-align: right;\">missing</td><td style = \"font-style: italic; text-align: right;\">missing</td><td style = \"text-align: right;\">6.0</td><td style = \"text-align: right;\">1.0</td><td style = \"text-align: right;\">9.77457e5</td><td style = \"font-style: italic; text-align: right;\">missing</td><td style = \"font-style: italic; text-align: right;\">missing</td><td style = \"font-style: italic; text-align: right;\">missing</td><td style = \"font-style: italic; text-align: right;\">missing</td><td style = \"text-align: right;\">0.43204</td><td style = \"text-align: left;\">NAcc-Core-Right</td><td style = \"text-align: left;\">barrier</td><td style = \"text-align: left;\">80B8CE6 (Ceecee)</td><td style = \"text-align: left;\">03082024-L</td><td style = \"text-align: right;\">2.0</td><td style = \"text-align: right;\">2</td><td style = \"text-align: right;\">17</td><td style = \"text-align: right;\">19</td><td style = \"text-align: right;\">23</td><td style = \"text-align: left;\">80B8CE6 (Ceecee)</td><td style = \"text-align: right;\">2</td></tr><tr><td class = \"rowNumber\" style = \"font-weight: bold; text-align: right;\">8</td><td style = \"text-align: right;\">7</td><td style = \"text-align: right;\">69968</td><td style = \"font-style: italic; text-align: right;\">missing</td><td style = \"font-style: italic; text-align: right;\">missing</td><td style = \"text-align: right;\">0.240448</td><td style = \"text-align: right;\">3</td><td style = \"text-align: right;\">1.0</td><td style = \"text-align: right;\">1.0</td><td style = \"text-align: right;\">50.0</td><td style = \"text-align: right;\">10.0</td><td style = \"text-align: right;\">90.0</td><td style = \"text-align: right;\">69963.0</td><td style = \"text-align: right;\">-0.192023</td><td style = \"font-style: italic; text-align: right;\">missing</td><td style = \"font-style: italic; text-align: right;\">missing</td><td style = \"text-align: right;\">7.0</td><td style = \"text-align: right;\">0.0</td><td style = \"text-align: right;\">9.68785e5</td><td style = \"font-style: italic; text-align: right;\">missing</td><td style = \"font-style: italic; text-align: right;\">missing</td><td style = \"font-style: italic; text-align: right;\">missing</td><td style = \"font-style: italic; text-align: right;\">missing</td><td style = \"text-align: right;\">0.699948</td><td style = \"text-align: left;\">NAcc-Core-Right</td><td style = \"text-align: left;\">barrier</td><td style = \"text-align: left;\">80B8CE6 (Ceecee)</td><td style = \"text-align: left;\">03082024-L</td><td style = \"text-align: right;\">0.0</td><td style = \"text-align: right;\">2</td><td style = \"text-align: right;\">17</td><td style = \"text-align: right;\">19</td><td style = \"text-align: right;\">23</td><td style = \"text-align: left;\">80B8CE6 (Ceecee)</td><td style = \"text-align: right;\">1</td></tr><tr><td class = \"rowNumber\" style = \"font-weight: bold; text-align: right;\">9</td><td style = \"text-align: right;\">8</td><td style = \"text-align: right;\">75547</td><td style = \"font-style: italic; text-align: right;\">missing</td><td style = \"font-style: italic; text-align: right;\">missing</td><td style = \"text-align: right;\">0.102893</td><td style = \"text-align: right;\">1</td><td style = \"text-align: right;\">1.0</td><td style = \"text-align: right;\">1.0</td><td style = \"text-align: right;\">50.0</td><td style = \"text-align: right;\">10.0</td><td style = \"text-align: right;\">90.0</td><td style = \"text-align: right;\">75541.0</td><td style = \"text-align: right;\">0.042502</td><td style = \"font-style: italic; text-align: right;\">missing</td><td style = \"font-style: italic; text-align: right;\">missing</td><td style = \"text-align: right;\">8.0</td><td style = \"text-align: right;\">2.0</td><td style = \"text-align: right;\">9.65604e5</td><td style = \"font-style: italic; text-align: right;\">missing</td><td style = \"font-style: italic; text-align: right;\">missing</td><td style = \"font-style: italic; text-align: right;\">missing</td><td style = \"font-style: italic; text-align: right;\">missing</td><td style = \"text-align: right;\">0.299522</td><td style = \"text-align: left;\">NAcc-Core-Right</td><td style = \"text-align: left;\">barrier</td><td style = \"text-align: left;\">80B8CE6 (Ceecee)</td><td style = \"text-align: left;\">03082024-L</td><td style = \"text-align: right;\">2.0</td><td style = \"text-align: right;\">1</td><td style = \"text-align: right;\">17</td><td style = \"text-align: right;\">19</td><td style = \"text-align: right;\">23</td><td style = \"text-align: left;\">80B8CE6 (Ceecee)</td><td style = \"text-align: right;\">3</td></tr><tr><td class = \"rowNumber\" style = \"font-weight: bold; text-align: right;\">10</td><td style = \"text-align: right;\">9</td><td style = \"text-align: right;\">83844</td><td style = \"font-style: italic; text-align: right;\">missing</td><td style = \"font-style: italic; text-align: right;\">missing</td><td style = \"text-align: right;\">0.486113</td><td style = \"text-align: right;\">3</td><td style = \"text-align: right;\">1.0</td><td style = \"text-align: right;\">1.0</td><td style = \"text-align: right;\">50.0</td><td style = \"text-align: right;\">10.0</td><td style = \"text-align: right;\">90.0</td><td style = \"text-align: right;\">83839.0</td><td style = \"text-align: right;\">-0.10648</td><td style = \"font-style: italic; text-align: right;\">missing</td><td style = \"font-style: italic; text-align: right;\">missing</td><td style = \"text-align: right;\">9.0</td><td style = \"text-align: right;\">0.0</td><td style = \"text-align: right;\">955734.0</td><td style = \"font-style: italic; text-align: right;\">missing</td><td style = \"font-style: italic; text-align: right;\">missing</td><td style = \"font-style: italic; text-align: right;\">missing</td><td style = \"font-style: italic; text-align: right;\">missing</td><td style = \"text-align: right;\">1.41508</td><td style = \"text-align: left;\">NAcc-Core-Right</td><td style = \"text-align: left;\">barrier</td><td style = \"text-align: left;\">80B8CE6 (Ceecee)</td><td style = \"text-align: left;\">03082024-L</td><td style = \"text-align: right;\">1.0</td><td style = \"text-align: right;\">2</td><td style = \"text-align: right;\">17</td><td style = \"text-align: right;\">19</td><td style = \"text-align: right;\">23</td><td style = \"text-align: left;\">80B8CE6 (Ceecee)</td><td style = \"text-align: right;\">1</td></tr><tr><td class = \"rowNumber\" style = \"font-weight: bold; text-align: right;\">11</td><td style = \"text-align: right;\">10</td><td style = \"text-align: right;\">118963</td><td style = \"font-style: italic; text-align: right;\">missing</td><td style = \"font-style: italic; text-align: right;\">missing</td><td style = \"text-align: right;\">-0.170766</td><td style = \"text-align: right;\">2</td><td style = \"text-align: right;\">0.0</td><td style = \"text-align: right;\">1.0</td><td style = \"text-align: right;\">50.0</td><td style = \"text-align: right;\">10.0</td><td style = \"text-align: right;\">90.0</td><td style = \"text-align: right;\">118950.0</td><td style = \"text-align: right;\">-0.287824</td><td style = \"font-style: italic; text-align: right;\">missing</td><td style = \"font-style: italic; text-align: right;\">missing</td><td style = \"text-align: right;\">10.0</td><td style = \"text-align: right;\">2.0</td><td style = \"text-align: right;\">9.13048e5</td><td style = \"font-style: italic; text-align: right;\">missing</td><td style = \"font-style: italic; text-align: right;\">missing</td><td style = \"font-style: italic; text-align: right;\">missing</td><td style = \"font-style: italic; text-align: right;\">missing</td><td style = \"text-align: right;\">-0.4971</td><td style = \"text-align: left;\">NAcc-Core-Right</td><td style = \"text-align: left;\">barrier</td><td style = \"text-align: left;\">80B8CE6 (Ceecee)</td><td style = \"text-align: left;\">03082024-L</td><td style = \"text-align: right;\">2.0</td><td style = \"text-align: right;\">2</td><td style = \"text-align: right;\">17</td><td style = \"text-align: right;\">19</td><td style = \"text-align: right;\">23</td><td style = \"text-align: left;\">80B8CE6 (Ceecee)</td><td style = \"text-align: right;\">3</td></tr><tr><td class = \"rowNumber\" style = \"font-weight: bold; text-align: right;\">12</td><td style = \"text-align: right;\">11</td><td style = \"text-align: right;\">130582</td><td style = \"font-style: italic; text-align: right;\">missing</td><td style = \"font-style: italic; text-align: right;\">missing</td><td style = \"text-align: right;\">0.109278</td><td style = \"text-align: right;\">3</td><td style = \"text-align: right;\">0.0</td><td style = \"text-align: right;\">1.0</td><td style = \"text-align: right;\">50.0</td><td style = \"text-align: right;\">10.0</td><td style = \"text-align: right;\">90.0</td><td style = \"text-align: right;\">130581.0</td><td style = \"text-align: right;\">-0.0290579</td><td style = \"font-style: italic; text-align: right;\">missing</td><td style = \"font-style: italic; text-align: right;\">missing</td><td style = \"text-align: right;\">11.0</td><td style = \"text-align: right;\">1.0</td><td style = \"text-align: right;\">9.09108e5</td><td style = \"font-style: italic; text-align: right;\">missing</td><td style = \"font-style: italic; text-align: right;\">missing</td><td style = \"font-style: italic; text-align: right;\">missing</td><td style = \"font-style: italic; text-align: right;\">missing</td><td style = \"text-align: right;\">0.31811</td><td style = \"text-align: left;\">NAcc-Core-Right</td><td style = \"text-align: left;\">barrier</td><td style = \"text-align: left;\">80B8CE6 (Ceecee)</td><td style = \"text-align: left;\">03082024-L</td><td style = \"text-align: right;\">0.0</td><td style = \"text-align: right;\">1</td><td style = \"text-align: right;\">17</td><td style = \"text-align: right;\">19</td><td style = \"text-align: right;\">23</td><td style = \"text-align: left;\">80B8CE6 (Ceecee)</td><td style = \"text-align: right;\">2</td></tr><tr><td class = \"rowNumber\" style = \"font-weight: bold; text-align: right;\">13</td><td style = \"text-align: right;\">12</td><td style = \"text-align: right;\">137693</td><td style = \"font-style: italic; text-align: right;\">missing</td><td style = \"font-style: italic; text-align: right;\">missing</td><td style = \"text-align: right;\">-0.273722</td><td style = \"text-align: right;\">1</td><td style = \"text-align: right;\">0.0</td><td style = \"text-align: right;\">1.0</td><td style = \"text-align: right;\">50.0</td><td style = \"text-align: right;\">10.0</td><td style = \"text-align: right;\">90.0</td><td style = \"text-align: right;\">137681.0</td><td style = \"text-align: right;\">-0.19895</td><td style = \"font-style: italic; text-align: right;\">missing</td><td style = \"font-style: italic; text-align: right;\">missing</td><td style = \"text-align: right;\">12.0</td><td style = \"text-align: right;\">2.0</td><td style = \"text-align: right;\">9.02269e5</td><td style = \"font-style: italic; text-align: right;\">missing</td><td style = \"font-style: italic; text-align: right;\">missing</td><td style = \"font-style: italic; text-align: right;\">missing</td><td style = \"font-style: italic; text-align: right;\">missing</td><td style = \"text-align: right;\">-0.796808</td><td style = \"text-align: left;\">NAcc-Core-Right</td><td style = \"text-align: left;\">barrier</td><td style = \"text-align: left;\">80B8CE6 (Ceecee)</td><td style = \"text-align: left;\">03082024-L</td><td style = \"text-align: right;\">2.0</td><td style = \"text-align: right;\">1</td><td style = \"text-align: right;\">17</td><td style = \"text-align: right;\">19</td><td style = \"text-align: right;\">23</td><td style = \"text-align: left;\">80B8CE6 (Ceecee)</td><td style = \"text-align: right;\">3</td></tr><tr><td style = \"text-align: right;\">&vellip;</td><td style = \"text-align: right;\">&vellip;</td><td style = \"text-align: right;\">&vellip;</td><td style = \"text-align: right;\">&vellip;</td><td style = \"text-align: right;\">&vellip;</td><td style = \"text-align: right;\">&vellip;</td><td style = \"text-align: right;\">&vellip;</td><td style = \"text-align: right;\">&vellip;</td><td style = \"text-align: right;\">&vellip;</td><td style = \"text-align: right;\">&vellip;</td><td style = \"text-align: right;\">&vellip;</td><td style = \"text-align: right;\">&vellip;</td><td style = \"text-align: right;\">&vellip;</td><td style = \"text-align: right;\">&vellip;</td><td style = \"text-align: right;\">&vellip;</td><td style = \"text-align: right;\">&vellip;</td><td style = \"text-align: right;\">&vellip;</td><td style = \"text-align: right;\">&vellip;</td><td style = \"text-align: right;\">&vellip;</td><td style = \"text-align: right;\">&vellip;</td><td style = \"text-align: right;\">&vellip;</td><td style = \"text-align: right;\">&vellip;</td><td style = \"text-align: right;\">&vellip;</td><td style = \"text-align: right;\">&vellip;</td><td style = \"text-align: right;\">&vellip;</td><td style = \"text-align: right;\">&vellip;</td><td style = \"text-align: right;\">&vellip;</td><td style = \"text-align: right;\">&vellip;</td><td style = \"text-align: right;\">&vellip;</td><td style = \"text-align: right;\">&vellip;</td><td style = \"text-align: right;\">&vellip;</td><td style = \"text-align: right;\">&vellip;</td><td style = \"text-align: right;\">&vellip;</td><td style = \"text-align: right;\">&vellip;</td><td style = \"text-align: right;\">&vellip;</td></tr><tr><td class = \"rowNumber\" style = \"font-weight: bold; text-align: right;\">142</td><td style = \"text-align: right;\">141</td><td style = \"text-align: right;\">807999</td><td style = \"font-style: italic; text-align: right;\">missing</td><td style = \"font-style: italic; text-align: right;\">missing</td><td style = \"text-align: right;\">-0.0218628</td><td style = \"text-align: right;\">3</td><td style = \"text-align: right;\">1.0</td><td style = \"text-align: right;\">3.0</td><td style = \"text-align: right;\">50.0</td><td style = \"text-align: right;\">10.0</td><td style = \"text-align: right;\">90.0</td><td style = \"text-align: right;\">807993.0</td><td style = \"text-align: right;\">-0.245699</td><td style = \"font-style: italic; text-align: right;\">missing</td><td style = \"font-style: italic; text-align: right;\">missing</td><td style = \"text-align: right;\">14.0</td><td style = \"text-align: right;\">0.0</td><td style = \"text-align: right;\">6.80639e5</td><td style = \"font-style: italic; text-align: right;\">missing</td><td style = \"font-style: italic; text-align: right;\">missing</td><td style = \"font-style: italic; text-align: right;\">missing</td><td style = \"font-style: italic; text-align: right;\">missing</td><td style = \"text-align: right;\">-0.0636429</td><td style = \"text-align: left;\">NAcc-Core-Right</td><td style = \"text-align: left;\">barrier</td><td style = \"text-align: left;\">80B8CE6 (Ceecee)</td><td style = \"text-align: left;\">03082024-L</td><td style = \"text-align: right;\">0.0</td><td style = \"text-align: right;\">2</td><td style = \"text-align: right;\">17</td><td style = \"text-align: right;\">23</td><td style = \"text-align: right;\">15</td><td style = \"text-align: left;\">80B8CE6 (Ceecee)</td><td style = \"text-align: right;\">1</td></tr><tr><td class = \"rowNumber\" style = \"font-weight: bold; text-align: right;\">143</td><td style = \"text-align: right;\">142</td><td style = \"text-align: right;\">810665</td><td style = \"font-style: italic; text-align: right;\">missing</td><td style = \"font-style: italic; text-align: right;\">missing</td><td style = \"text-align: right;\">-0.31758</td><td style = \"text-align: right;\">1</td><td style = \"text-align: right;\">0.0</td><td style = \"text-align: right;\">3.0</td><td style = \"text-align: right;\">50.0</td><td style = \"text-align: right;\">10.0</td><td style = \"text-align: right;\">90.0</td><td style = \"text-align: right;\">810656.0</td><td style = \"text-align: right;\">0.174884</td><td style = \"font-style: italic; text-align: right;\">missing</td><td style = \"font-style: italic; text-align: right;\">missing</td><td style = \"text-align: right;\">15.0</td><td style = \"text-align: right;\">2.0</td><td style = \"text-align: right;\">6.79822e5</td><td style = \"font-style: italic; text-align: right;\">missing</td><td style = \"font-style: italic; text-align: right;\">missing</td><td style = \"font-style: italic; text-align: right;\">missing</td><td style = \"font-style: italic; text-align: right;\">missing</td><td style = \"text-align: right;\">-0.92448</td><td style = \"text-align: left;\">NAcc-Core-Right</td><td style = \"text-align: left;\">barrier</td><td style = \"text-align: left;\">80B8CE6 (Ceecee)</td><td style = \"text-align: left;\">03082024-L</td><td style = \"text-align: right;\">2.0</td><td style = \"text-align: right;\">1</td><td style = \"text-align: right;\">17</td><td style = \"text-align: right;\">23</td><td style = \"text-align: right;\">15</td><td style = \"text-align: left;\">80B8CE6 (Ceecee)</td><td style = \"text-align: right;\">3</td></tr><tr><td class = \"rowNumber\" style = \"font-weight: bold; text-align: right;\">144</td><td style = \"text-align: right;\">143</td><td style = \"text-align: right;\">819021</td><td style = \"font-style: italic; text-align: right;\">missing</td><td style = \"font-style: italic; text-align: right;\">missing</td><td style = \"text-align: right;\">-0.193205</td><td style = \"text-align: right;\">3</td><td style = \"text-align: right;\">1.0</td><td style = \"text-align: right;\">3.0</td><td style = \"text-align: right;\">50.0</td><td style = \"text-align: right;\">10.0</td><td style = \"text-align: right;\">90.0</td><td style = \"text-align: right;\">819017.0</td><td style = \"text-align: right;\">0.0324087</td><td style = \"font-style: italic; text-align: right;\">missing</td><td style = \"font-style: italic; text-align: right;\">missing</td><td style = \"text-align: right;\">16.0</td><td style = \"text-align: right;\">0.0</td><td style = \"text-align: right;\">6.79736e5</td><td style = \"font-style: italic; text-align: right;\">missing</td><td style = \"font-style: italic; text-align: right;\">missing</td><td style = \"font-style: italic; text-align: right;\">missing</td><td style = \"font-style: italic; text-align: right;\">missing</td><td style = \"text-align: right;\">-0.562423</td><td style = \"text-align: left;\">NAcc-Core-Right</td><td style = \"text-align: left;\">barrier</td><td style = \"text-align: left;\">80B8CE6 (Ceecee)</td><td style = \"text-align: left;\">03082024-L</td><td style = \"text-align: right;\">0.0</td><td style = \"text-align: right;\">2</td><td style = \"text-align: right;\">17</td><td style = \"text-align: right;\">23</td><td style = \"text-align: right;\">15</td><td style = \"text-align: left;\">80B8CE6 (Ceecee)</td><td style = \"text-align: right;\">1</td></tr><tr><td class = \"rowNumber\" style = \"font-weight: bold; text-align: right;\">145</td><td style = \"text-align: right;\">144</td><td style = \"text-align: right;\">822674</td><td style = \"font-style: italic; text-align: right;\">missing</td><td style = \"font-style: italic; text-align: right;\">missing</td><td style = \"text-align: right;\">0.119711</td><td style = \"text-align: right;\">1</td><td style = \"text-align: right;\">0.0</td><td style = \"text-align: right;\">3.0</td><td style = \"text-align: right;\">50.0</td><td style = \"text-align: right;\">10.0</td><td style = \"text-align: right;\">90.0</td><td style = \"text-align: right;\">822663.0</td><td style = \"text-align: right;\">-0.0220398</td><td style = \"font-style: italic; text-align: right;\">missing</td><td style = \"font-style: italic; text-align: right;\">missing</td><td style = \"text-align: right;\">17.0</td><td style = \"text-align: right;\">2.0</td><td style = \"text-align: right;\">6.79134e5</td><td style = \"font-style: italic; text-align: right;\">missing</td><td style = \"font-style: italic; text-align: right;\">missing</td><td style = \"font-style: italic; text-align: right;\">missing</td><td style = \"font-style: italic; text-align: right;\">missing</td><td style = \"text-align: right;\">0.348479</td><td style = \"text-align: left;\">NAcc-Core-Right</td><td style = \"text-align: left;\">barrier</td><td style = \"text-align: left;\">80B8CE6 (Ceecee)</td><td style = \"text-align: left;\">03082024-L</td><td style = \"text-align: right;\">1.0</td><td style = \"text-align: right;\">1</td><td style = \"text-align: right;\">17</td><td style = \"text-align: right;\">23</td><td style = \"text-align: right;\">15</td><td style = \"text-align: left;\">80B8CE6 (Ceecee)</td><td style = \"text-align: right;\">3</td></tr><tr><td class = \"rowNumber\" style = \"font-weight: bold; text-align: right;\">146</td><td style = \"text-align: right;\">145</td><td style = \"text-align: right;\">831944</td><td style = \"font-style: italic; text-align: right;\">missing</td><td style = \"font-style: italic; text-align: right;\">missing</td><td style = \"text-align: right;\">-0.12824</td><td style = \"text-align: right;\">2</td><td style = \"text-align: right;\">1.0</td><td style = \"text-align: right;\">3.0</td><td style = \"text-align: right;\">50.0</td><td style = \"text-align: right;\">10.0</td><td style = \"text-align: right;\">90.0</td><td style = \"text-align: right;\">831941.0</td><td style = \"text-align: right;\">-0.215798</td><td style = \"font-style: italic; text-align: right;\">missing</td><td style = \"font-style: italic; text-align: right;\">missing</td><td style = \"text-align: right;\">18.0</td><td style = \"text-align: right;\">0.0</td><td style = \"text-align: right;\">6.76186e5</td><td style = \"font-style: italic; text-align: right;\">missing</td><td style = \"font-style: italic; text-align: right;\">missing</td><td style = \"font-style: italic; text-align: right;\">missing</td><td style = \"font-style: italic; text-align: right;\">missing</td><td style = \"text-align: right;\">-0.373308</td><td style = \"text-align: left;\">NAcc-Core-Right</td><td style = \"text-align: left;\">barrier</td><td style = \"text-align: left;\">80B8CE6 (Ceecee)</td><td style = \"text-align: left;\">03082024-L</td><td style = \"text-align: right;\">0.0</td><td style = \"text-align: right;\">1</td><td style = \"text-align: right;\">17</td><td style = \"text-align: right;\">23</td><td style = \"text-align: right;\">15</td><td style = \"text-align: left;\">80B8CE6 (Ceecee)</td><td style = \"text-align: right;\">1</td></tr><tr><td class = \"rowNumber\" style = \"font-weight: bold; text-align: right;\">147</td><td style = \"text-align: right;\">146</td><td style = \"text-align: right;\">870539</td><td style = \"font-style: italic; text-align: right;\">missing</td><td style = \"font-style: italic; text-align: right;\">missing</td><td style = \"text-align: right;\">0.23067</td><td style = \"text-align: right;\">1</td><td style = \"text-align: right;\">0.0</td><td style = \"text-align: right;\">3.0</td><td style = \"text-align: right;\">50.0</td><td style = \"text-align: right;\">10.0</td><td style = \"text-align: right;\">90.0</td><td style = \"text-align: right;\">870537.0</td><td style = \"text-align: right;\">-0.31801</td><td style = \"font-style: italic; text-align: right;\">missing</td><td style = \"font-style: italic; text-align: right;\">missing</td><td style = \"text-align: right;\">19.0</td><td style = \"text-align: right;\">1.0</td><td style = \"text-align: right;\">6.72037e5</td><td style = \"font-style: italic; text-align: right;\">missing</td><td style = \"font-style: italic; text-align: right;\">missing</td><td style = \"font-style: italic; text-align: right;\">missing</td><td style = \"font-style: italic; text-align: right;\">missing</td><td style = \"text-align: right;\">0.671482</td><td style = \"text-align: left;\">NAcc-Core-Right</td><td style = \"text-align: left;\">barrier</td><td style = \"text-align: left;\">80B8CE6 (Ceecee)</td><td style = \"text-align: left;\">03082024-L</td><td style = \"text-align: right;\">2.0</td><td style = \"text-align: right;\">2</td><td style = \"text-align: right;\">17</td><td style = \"text-align: right;\">23</td><td style = \"text-align: right;\">15</td><td style = \"text-align: left;\">80B8CE6 (Ceecee)</td><td style = \"text-align: right;\">2</td></tr><tr><td class = \"rowNumber\" style = \"font-weight: bold; text-align: right;\">148</td><td style = \"text-align: right;\">147</td><td style = \"text-align: right;\">873886</td><td style = \"font-style: italic; text-align: right;\">missing</td><td style = \"font-style: italic; text-align: right;\">missing</td><td style = \"text-align: right;\">0.0946876</td><td style = \"text-align: right;\">3</td><td style = \"text-align: right;\">0.0</td><td style = \"text-align: right;\">3.0</td><td style = \"text-align: right;\">50.0</td><td style = \"text-align: right;\">10.0</td><td style = \"text-align: right;\">90.0</td><td style = \"text-align: right;\">873876.0</td><td style = \"text-align: right;\">-0.158673</td><td style = \"font-style: italic; text-align: right;\">missing</td><td style = \"font-style: italic; text-align: right;\">missing</td><td style = \"text-align: right;\">20.0</td><td style = \"text-align: right;\">0.0</td><td style = \"text-align: right;\">6.71474e5</td><td style = \"font-style: italic; text-align: right;\">missing</td><td style = \"font-style: italic; text-align: right;\">missing</td><td style = \"font-style: italic; text-align: right;\">missing</td><td style = \"font-style: italic; text-align: right;\">missing</td><td style = \"text-align: right;\">0.275636</td><td style = \"text-align: left;\">NAcc-Core-Right</td><td style = \"text-align: left;\">barrier</td><td style = \"text-align: left;\">80B8CE6 (Ceecee)</td><td style = \"text-align: left;\">03082024-L</td><td style = \"text-align: right;\">0.0</td><td style = \"text-align: right;\">2</td><td style = \"text-align: right;\">17</td><td style = \"text-align: right;\">23</td><td style = \"text-align: right;\">15</td><td style = \"text-align: left;\">80B8CE6 (Ceecee)</td><td style = \"text-align: right;\">1</td></tr><tr><td class = \"rowNumber\" style = \"font-weight: bold; text-align: right;\">149</td><td style = \"text-align: right;\">148</td><td style = \"text-align: right;\">886779</td><td style = \"font-style: italic; text-align: right;\">missing</td><td style = \"font-style: italic; text-align: right;\">missing</td><td style = \"text-align: right;\">-0.10053</td><td style = \"text-align: right;\">1</td><td style = \"text-align: right;\">1.0</td><td style = \"text-align: right;\">3.0</td><td style = \"text-align: right;\">50.0</td><td style = \"text-align: right;\">10.0</td><td style = \"text-align: right;\">90.0</td><td style = \"text-align: right;\">886776.0</td><td style = \"text-align: right;\">-0.0753932</td><td style = \"font-style: italic; text-align: right;\">missing</td><td style = \"font-style: italic; text-align: right;\">missing</td><td style = \"text-align: right;\">21.0</td><td style = \"text-align: right;\">2.0</td><td style = \"text-align: right;\">6.70606e5</td><td style = \"font-style: italic; text-align: right;\">missing</td><td style = \"font-style: italic; text-align: right;\">missing</td><td style = \"font-style: italic; text-align: right;\">missing</td><td style = \"font-style: italic; text-align: right;\">missing</td><td style = \"text-align: right;\">-0.292645</td><td style = \"text-align: left;\">NAcc-Core-Right</td><td style = \"text-align: left;\">barrier</td><td style = \"text-align: left;\">80B8CE6 (Ceecee)</td><td style = \"text-align: left;\">03082024-L</td><td style = \"text-align: right;\">2.0</td><td style = \"text-align: right;\">1</td><td style = \"text-align: right;\">17</td><td style = \"text-align: right;\">23</td><td style = \"text-align: right;\">15</td><td style = \"text-align: left;\">80B8CE6 (Ceecee)</td><td style = \"text-align: right;\">3</td></tr><tr><td class = \"rowNumber\" style = \"font-weight: bold; text-align: right;\">150</td><td style = \"text-align: right;\">149</td><td style = \"text-align: right;\">891527</td><td style = \"text-align: right;\">507.991</td><td style = \"text-align: right;\">386.927</td><td style = \"text-align: right;\">0.0683063</td><td style = \"text-align: right;\">3</td><td style = \"text-align: right;\">1.0</td><td style = \"text-align: right;\">3.0</td><td style = \"text-align: right;\">50.0</td><td style = \"text-align: right;\">10.0</td><td style = \"text-align: right;\">90.0</td><td style = \"text-align: right;\">891527.0</td><td style = \"text-align: right;\">0.0944772</td><td style = \"text-align: right;\">6.73004</td><td style = \"text-align: right;\">487.721</td><td style = \"text-align: right;\">22.0</td><td style = \"text-align: right;\">0.0</td><td style = \"text-align: right;\">6.70144e5</td><td style = \"font-style: italic; text-align: right;\">missing</td><td style = \"font-style: italic; text-align: right;\">missing</td><td style = \"font-style: italic; text-align: right;\">missing</td><td style = \"font-style: italic; text-align: right;\">missing</td><td style = \"text-align: right;\">0.19884</td><td style = \"text-align: left;\">NAcc-Core-Right</td><td style = \"text-align: left;\">barrier</td><td style = \"text-align: left;\">80B8CE6 (Ceecee)</td><td style = \"text-align: left;\">03082024-L</td><td style = \"text-align: right;\">0.0</td><td style = \"text-align: right;\">2</td><td style = \"text-align: right;\">17</td><td style = \"text-align: right;\">23</td><td style = \"text-align: right;\">15</td><td style = \"text-align: left;\">80B8CE6 (Ceecee)</td><td style = \"text-align: right;\">1</td></tr><tr><td class = \"rowNumber\" style = \"font-weight: bold; text-align: right;\">151</td><td style = \"text-align: right;\">150</td><td style = \"text-align: right;\">908039</td><td style = \"font-style: italic; text-align: right;\">missing</td><td style = \"font-style: italic; text-align: right;\">missing</td><td style = \"text-align: right;\">-0.130402</td><td style = \"text-align: right;\">1</td><td style = \"text-align: right;\">0.0</td><td style = \"text-align: right;\">3.0</td><td style = \"text-align: right;\">50.0</td><td style = \"text-align: right;\">10.0</td><td style = \"text-align: right;\">90.0</td><td style = \"text-align: right;\">908030.0</td><td style = \"text-align: right;\">0.00367091</td><td style = \"font-style: italic; text-align: right;\">missing</td><td style = \"font-style: italic; text-align: right;\">missing</td><td style = \"text-align: right;\">23.0</td><td style = \"text-align: right;\">2.0</td><td style = \"text-align: right;\">6.67124e5</td><td style = \"font-style: italic; text-align: right;\">missing</td><td style = \"font-style: italic; text-align: right;\">missing</td><td style = \"font-style: italic; text-align: right;\">missing</td><td style = \"font-style: italic; text-align: right;\">missing</td><td style = \"text-align: right;\">-0.379601</td><td style = \"text-align: left;\">NAcc-Core-Right</td><td style = \"text-align: left;\">barrier</td><td style = \"text-align: left;\">80B8CE6 (Ceecee)</td><td style = \"text-align: left;\">03082024-L</td><td style = \"text-align: right;\">1.0</td><td style = \"text-align: right;\">1</td><td style = \"text-align: right;\">17</td><td style = \"text-align: right;\">23</td><td style = \"text-align: right;\">15</td><td style = \"text-align: left;\">80B8CE6 (Ceecee)</td><td style = \"text-align: right;\">3</td></tr><tr><td class = \"rowNumber\" style = \"font-weight: bold; text-align: right;\">152</td><td style = \"text-align: right;\">151</td><td style = \"text-align: right;\">909945</td><td style = \"font-style: italic; text-align: right;\">missing</td><td style = \"font-style: italic; text-align: right;\">missing</td><td style = \"text-align: right;\">-0.598249</td><td style = \"text-align: right;\">2</td><td style = \"text-align: right;\">0.0</td><td style = \"text-align: right;\">3.0</td><td style = \"text-align: right;\">50.0</td><td style = \"text-align: right;\">10.0</td><td style = \"text-align: right;\">90.0</td><td style = \"text-align: right;\">909942.0</td><td style = \"text-align: right;\">-0.111379</td><td style = \"font-style: italic; text-align: right;\">missing</td><td style = \"font-style: italic; text-align: right;\">missing</td><td style = \"text-align: right;\">24.0</td><td style = \"text-align: right;\">0.0</td><td style = \"text-align: right;\">6.65929e5</td><td style = \"font-style: italic; text-align: right;\">missing</td><td style = \"font-style: italic; text-align: right;\">missing</td><td style = \"font-style: italic; text-align: right;\">missing</td><td style = \"font-style: italic; text-align: right;\">missing</td><td style = \"text-align: right;\">-1.74151</td><td style = \"text-align: left;\">NAcc-Core-Right</td><td style = \"text-align: left;\">barrier</td><td style = \"text-align: left;\">80B8CE6 (Ceecee)</td><td style = \"text-align: left;\">03082024-L</td><td style = \"text-align: right;\">0.0</td><td style = \"text-align: right;\">1</td><td style = \"text-align: right;\">17</td><td style = \"text-align: right;\">23</td><td style = \"text-align: right;\">15</td><td style = \"text-align: left;\">80B8CE6 (Ceecee)</td><td style = \"text-align: right;\">1</td></tr><tr><td class = \"rowNumber\" style = \"font-weight: bold; text-align: right;\">153</td><td style = \"text-align: right;\">152</td><td style = \"text-align: right;\">914286</td><td style = \"font-style: italic; text-align: right;\">missing</td><td style = \"font-style: italic; text-align: right;\">missing</td><td style = \"text-align: right;\">-0.10795</td><td style = \"text-align: right;\">1</td><td style = \"text-align: right;\">1.0</td><td style = \"text-align: right;\">3.0</td><td style = \"text-align: right;\">50.0</td><td style = \"text-align: right;\">10.0</td><td style = \"text-align: right;\">90.0</td><td style = \"text-align: right;\">914281.0</td><td style = \"text-align: right;\">0.0668527</td><td style = \"font-style: italic; text-align: right;\">missing</td><td style = \"font-style: italic; text-align: right;\">missing</td><td style = \"text-align: right;\">25.0</td><td style = \"text-align: right;\">1.0</td><td style = \"text-align: right;\">6.6823e5</td><td style = \"font-style: italic; text-align: right;\">missing</td><td style = \"font-style: italic; text-align: right;\">missing</td><td style = \"font-style: italic; text-align: right;\">missing</td><td style = \"font-style: italic; text-align: right;\">missing</td><td style = \"text-align: right;\">-0.314245</td><td style = \"text-align: left;\">NAcc-Core-Right</td><td style = \"text-align: left;\">barrier</td><td style = \"text-align: left;\">80B8CE6 (Ceecee)</td><td style = \"text-align: left;\">03082024-L</td><td style = \"text-align: right;\">10.0</td><td style = \"text-align: right;\">2</td><td style = \"text-align: right;\">17</td><td style = \"text-align: right;\">23</td><td style = \"text-align: right;\">15</td><td style = \"text-align: left;\">80B8CE6 (Ceecee)</td><td style = \"text-align: right;\">2</td></tr></tbody></table></div>"
      ],
      "text/latex": [
       "\\begin{tabular}{r|cccccccccc}\n",
       "\t& Column1 & index & x & y & green & port & rwd & block & pA & \\\\\n",
       "\t\\hline\n",
       "\t& Int64 & Int64 & Float64? & Float64? & Float64 & Int8 & Float64 & Float64 & Float64 & \\\\\n",
       "\t\\hline\n",
       "\t1 & 0 & 9326 & \\emph{missing} & \\emph{missing} & -0.330921 & 3 & 1.0 & 1.0 & 50.0 & $\\dots$ \\\\\n",
       "\t2 & 1 & 15104 & \\emph{missing} & \\emph{missing} & -0.372752 & 2 & 0.0 & 1.0 & 50.0 & $\\dots$ \\\\\n",
       "\t3 & 2 & 22889 & \\emph{missing} & \\emph{missing} & -0.210137 & 3 & 1.0 & 1.0 & 50.0 & $\\dots$ \\\\\n",
       "\t4 & 3 & 31447 & \\emph{missing} & \\emph{missing} & -0.0456326 & 2 & 0.0 & 1.0 & 50.0 & $\\dots$ \\\\\n",
       "\t5 & 4 & 36967 & \\emph{missing} & \\emph{missing} & 0.0119699 & 3 & 1.0 & 1.0 & 50.0 & $\\dots$ \\\\\n",
       "\t6 & 5 & 53711 & \\emph{missing} & \\emph{missing} & 0.0308857 & 2 & 0.0 & 1.0 & 50.0 & $\\dots$ \\\\\n",
       "\t7 & 6 & 62402 & \\emph{missing} & \\emph{missing} & 0.148416 & 1 & 1.0 & 1.0 & 50.0 & $\\dots$ \\\\\n",
       "\t8 & 7 & 69968 & \\emph{missing} & \\emph{missing} & 0.240448 & 3 & 1.0 & 1.0 & 50.0 & $\\dots$ \\\\\n",
       "\t9 & 8 & 75547 & \\emph{missing} & \\emph{missing} & 0.102893 & 1 & 1.0 & 1.0 & 50.0 & $\\dots$ \\\\\n",
       "\t10 & 9 & 83844 & \\emph{missing} & \\emph{missing} & 0.486113 & 3 & 1.0 & 1.0 & 50.0 & $\\dots$ \\\\\n",
       "\t11 & 10 & 118963 & \\emph{missing} & \\emph{missing} & -0.170766 & 2 & 0.0 & 1.0 & 50.0 & $\\dots$ \\\\\n",
       "\t12 & 11 & 130582 & \\emph{missing} & \\emph{missing} & 0.109278 & 3 & 0.0 & 1.0 & 50.0 & $\\dots$ \\\\\n",
       "\t13 & 12 & 137693 & \\emph{missing} & \\emph{missing} & -0.273722 & 1 & 0.0 & 1.0 & 50.0 & $\\dots$ \\\\\n",
       "\t14 & 13 & 141105 & \\emph{missing} & \\emph{missing} & -0.0195062 & 3 & 1.0 & 1.0 & 50.0 & $\\dots$ \\\\\n",
       "\t15 & 14 & 150462 & \\emph{missing} & \\emph{missing} & 0.258269 & 2 & 0.0 & 1.0 & 50.0 & $\\dots$ \\\\\n",
       "\t16 & 15 & 158637 & \\emph{missing} & \\emph{missing} & -0.0875096 & 3 & 1.0 & 1.0 & 50.0 & $\\dots$ \\\\\n",
       "\t17 & 16 & 166026 & \\emph{missing} & \\emph{missing} & -0.0684901 & 1 & 1.0 & 1.0 & 50.0 & $\\dots$ \\\\\n",
       "\t18 & 17 & 170423 & \\emph{missing} & \\emph{missing} & 0.117092 & 3 & 1.0 & 1.0 & 50.0 & $\\dots$ \\\\\n",
       "\t19 & 18 & 181614 & \\emph{missing} & \\emph{missing} & -0.132287 & 1 & 0.0 & 1.0 & 50.0 & $\\dots$ \\\\\n",
       "\t20 & 19 & 183598 & 507.553 & 383.206 & 0.222973 & 3 & 1.0 & 1.0 & 50.0 & $\\dots$ \\\\\n",
       "\t21 & 20 & 186419 & \\emph{missing} & \\emph{missing} & -0.157855 & 2 & 0.0 & 1.0 & 50.0 & $\\dots$ \\\\\n",
       "\t22 & 21 & 190213 & \\emph{missing} & \\emph{missing} & 0.378834 & 3 & 1.0 & 1.0 & 50.0 & $\\dots$ \\\\\n",
       "\t23 & 22 & 193383 & \\emph{missing} & \\emph{missing} & 0.162873 & 1 & 0.0 & 1.0 & 50.0 & $\\dots$ \\\\\n",
       "\t24 & 23 & 195066 & \\emph{missing} & \\emph{missing} & -0.413456 & 3 & 1.0 & 1.0 & 50.0 & $\\dots$ \\\\\n",
       "\t25 & 24 & 200284 & \\emph{missing} & \\emph{missing} & -0.0960809 & 1 & 1.0 & 1.0 & 50.0 & $\\dots$ \\\\\n",
       "\t26 & 25 & 204742 & \\emph{missing} & \\emph{missing} & 0.414391 & 3 & 0.0 & 1.0 & 50.0 & $\\dots$ \\\\\n",
       "\t27 & 26 & 214417 & \\emph{missing} & \\emph{missing} & 0.191336 & 1 & 1.0 & 1.0 & 50.0 & $\\dots$ \\\\\n",
       "\t28 & 27 & 218439 & \\emph{missing} & \\emph{missing} & 0.254845 & 3 & 1.0 & 1.0 & 50.0 & $\\dots$ \\\\\n",
       "\t29 & 28 & 223572 & \\emph{missing} & \\emph{missing} & -0.249788 & 2 & 0.0 & 1.0 & 50.0 & $\\dots$ \\\\\n",
       "\t30 & 29 & 226012 & \\emph{missing} & \\emph{missing} & 0.245079 & 3 & 1.0 & 1.0 & 50.0 & $\\dots$ \\\\\n",
       "\t$\\dots$ & $\\dots$ & $\\dots$ & $\\dots$ & $\\dots$ & $\\dots$ & $\\dots$ & $\\dots$ & $\\dots$ & $\\dots$ &  \\\\\n",
       "\\end{tabular}\n"
      ],
      "text/plain": [
       "\u001b[1m153×34 DataFrame\u001b[0m\n",
       "\u001b[1m Row \u001b[0m│\u001b[1m Column1 \u001b[0m\u001b[1m index  \u001b[0m\u001b[1m x           \u001b[0m\u001b[1m y           \u001b[0m\u001b[1m green      \u001b[0m\u001b[1m port \u001b[0m\u001b[1m rwd     \u001b[0m\u001b[1m b\u001b[0m ⋯\n",
       "     │\u001b[90m Int64   \u001b[0m\u001b[90m Int64  \u001b[0m\u001b[90m Float64?    \u001b[0m\u001b[90m Float64?    \u001b[0m\u001b[90m Float64    \u001b[0m\u001b[90m Int8 \u001b[0m\u001b[90m Float64 \u001b[0m\u001b[90m F\u001b[0m ⋯\n",
       "─────┼──────────────────────────────────────────────────────────────────────────\n",
       "   1 │       0    9326 \u001b[90m missing     \u001b[0m\u001b[90m missing     \u001b[0m -0.330921      3      1.0    ⋯\n",
       "   2 │       1   15104 \u001b[90m missing     \u001b[0m\u001b[90m missing     \u001b[0m -0.372752      2      0.0\n",
       "   3 │       2   22889 \u001b[90m missing     \u001b[0m\u001b[90m missing     \u001b[0m -0.210137      3      1.0\n",
       "   4 │       3   31447 \u001b[90m missing     \u001b[0m\u001b[90m missing     \u001b[0m -0.0456326     2      0.0\n",
       "   5 │       4   36967 \u001b[90m missing     \u001b[0m\u001b[90m missing     \u001b[0m  0.0119699     3      1.0    ⋯\n",
       "   6 │       5   53711 \u001b[90m missing     \u001b[0m\u001b[90m missing     \u001b[0m  0.0308857     2      0.0\n",
       "   7 │       6   62402 \u001b[90m missing     \u001b[0m\u001b[90m missing     \u001b[0m  0.148416      1      1.0\n",
       "   8 │       7   69968 \u001b[90m missing     \u001b[0m\u001b[90m missing     \u001b[0m  0.240448      3      1.0\n",
       "   9 │       8   75547 \u001b[90m missing     \u001b[0m\u001b[90m missing     \u001b[0m  0.102893      1      1.0    ⋯\n",
       "  10 │       9   83844 \u001b[90m missing     \u001b[0m\u001b[90m missing     \u001b[0m  0.486113      3      1.0\n",
       "  11 │      10  118963 \u001b[90m missing     \u001b[0m\u001b[90m missing     \u001b[0m -0.170766      2      0.0\n",
       "  ⋮  │    ⋮       ⋮          ⋮            ⋮           ⋮        ⋮       ⋮       ⋱\n",
       " 144 │     143  819021 \u001b[90m missing     \u001b[0m\u001b[90m missing     \u001b[0m -0.193205      3      1.0\n",
       " 145 │     144  822674 \u001b[90m missing     \u001b[0m\u001b[90m missing     \u001b[0m  0.119711      1      0.0    ⋯\n",
       " 146 │     145  831944 \u001b[90m missing     \u001b[0m\u001b[90m missing     \u001b[0m -0.12824       2      1.0\n",
       " 147 │     146  870539 \u001b[90m missing     \u001b[0m\u001b[90m missing     \u001b[0m  0.23067       1      0.0\n",
       " 148 │     147  873886 \u001b[90m missing     \u001b[0m\u001b[90m missing     \u001b[0m  0.0946876     3      0.0\n",
       " 149 │     148  886779 \u001b[90m missing     \u001b[0m\u001b[90m missing     \u001b[0m -0.10053       1      1.0    ⋯\n",
       " 150 │     149  891527      507.991      386.927   0.0683063     3      1.0\n",
       " 151 │     150  908039 \u001b[90m missing     \u001b[0m\u001b[90m missing     \u001b[0m -0.130402      1      0.0\n",
       " 152 │     151  909945 \u001b[90m missing     \u001b[0m\u001b[90m missing     \u001b[0m -0.598249      2      0.0\n",
       " 153 │     152  914286 \u001b[90m missing     \u001b[0m\u001b[90m missing     \u001b[0m -0.10795       1      1.0    ⋯\n",
       "\u001b[36m                                                 27 columns and 132 rows omitted\u001b[0m"
      ]
     },
     "execution_count": 19,
     "metadata": {},
     "output_type": "execute_result"
    }
   ],
   "source": [
    "# load the data\n",
    "using DataFrames\n",
    "#insert df path into function\n",
    "df = CSV.read(\"T:\\\\ACh Rats\\\\80B8CE6 (Ceecee)\\\\03082024-L\\\\triframe.csv\", DataFrame);\n",
    "\n",
    "#df.sub = df.session\n",
    "#subs = unique(df.session) # to cluster at the session level\n",
    "#NS = length(subs)\n",
    "df.sub = df.rat\n",
    "subs = unique(df.rat)\n",
    "NS = length(subs)\n",
    "\n",
    "df.port = df.port .+ 1\n",
    "df.port = convert.(Int8,df[!,:port])\n",
    "df.currentport = Int64.([0; df.port[1:end-1]]) \n",
    "df.lrchoice = df.lrchoice .+ 1\n",
    "df"
   ]
  },
  {
   "cell_type": "code",
   "execution_count": 21,
   "id": "c2da70ec-e6e7-4873-835e-3bf182e0f1b5",
   "metadata": {},
   "outputs": [],
   "source": [
    "using SpecialFunctions:erf"
   ]
  },
  {
   "cell_type": "code",
   "execution_count": 24,
   "id": "4b58fd62-a981-4be0-b74c-5e9da983843d",
   "metadata": {},
   "outputs": [
    {
     "data": {
      "text/plain": [
       "qlik3port (generic function with 1 method)"
      ]
     },
     "execution_count": 24,
     "metadata": {},
     "output_type": "execute_result"
    }
   ],
   "source": [
    "function qlik3port(params,data)\n",
    "        # basic rescorla wagner learning over allocentric ports\n",
    "        beta = params[1]\n",
    "        lr = 0.5 + 0.5 * erf(params[2] / sqrt(2))\n",
    "        bias = params[3]\n",
    "        bdist = params[4]\n",
    "        #biasRet = params[5]\n",
    "        \n",
    "        c = data[:,:port]\n",
    "        Q = zeros(typeof(beta),3).+0.5\n",
    "\n",
    "        lik = 0\n",
    "    \n",
    "        s = data[:,:currentport]\n",
    "        r = data[:,:rwd]\n",
    "\n",
    "        AC = data[:,:lenAC]\n",
    "        BC = data[:,:lenBC]\n",
    "        AB = data[:,:lenAB]\n",
    "    \n",
    "        sesh = data[1,:session_type]\n",
    "        for i = 1:length(c)\n",
    "                if (i>1)\n",
    "                    if (data[i,:session_type] != sesh)\n",
    "                        Q = zeros(typeof(beta),3).+0.5\n",
    "                    end\n",
    "                    dist = [0 AB[i] AC[i]; AB[i] 0 BC[i]; AC[i] BC[i] 0]\n",
    "                    inds = mod.(s[i] .+ [0,1],3).+1\n",
    "                    Q2 = beta * Q\n",
    "                    Q2[inds[2]] += bias # CW/CCW bias\n",
    "                    Q2 += bdist * dist[s[i],:] # distance sensitivity\n",
    "                    lik += Q2[c[i]] - logsumexp(Q2[inds])\n",
    "                end\n",
    "                Q[c[i]] = (1-lr) * Q[c[i]] + lr * r[i]\n",
    "                #Q[c[i]] = Q[c[i]] + lr * (r[i]-Q[c[i]])\n",
    "                sesh = data[i,:session_type]\n",
    "        end\n",
    "\n",
    "    return -lik\n",
    "end"
   ]
  },
  {
   "cell_type": "code",
   "execution_count": 33,
   "id": "b9e3fe7b-160b-4655-b2b3-c559796fdeef",
   "metadata": {},
   "outputs": [
    {
     "name": "stdout",
     "output_type": "stream",
     "text": [
      "\n",
      "iter: 1001\n",
      "betas: [2.51 -0.89 0.64 -0.45]\n",
      "sigma: [0.0 -0.0 0.0 -0.0; -0.0 0.0 0.0 0.0; 0.0 0.0 0.0 -0.0; -0.0 0.0 -0.0 0.0]\n",
      "free energy: -53.403144\n",
      "change: [1.0e-6, -0.0, 1.0e-6, -0.0, 0.000993, -0.000995, 0.000992, -0.000989, 0.001, 0.000995, 0.000999, 0.000995, -0.000996, 0.000997]\n",
      "max: 0.001\n",
      " 58.511307 seconds (146.66 M allocations: 8.575 GiB, 1.97% gc time)\n",
      "model qlik 3 port, aggregate log marginal likelihood: 53.4031444034301\n"
     ]
    },
    {
     "data": {
      "text/html": [
       "<div><div style = \"float: left;\"><span>1×4 DataFrame</span></div><div style = \"clear: both;\"></div></div><div class = \"data-frame\" style = \"overflow-x: scroll;\"><table class = \"data-frame\" style = \"margin-bottom: 6px;\"><thead><tr class = \"header\"><th class = \"rowNumber\" style = \"font-weight: bold; text-align: right;\">Row</th><th style = \"text-align: left;\">beta</th><th style = \"text-align: left;\">alpha</th><th style = \"text-align: left;\">ccwBias</th><th style = \"text-align: left;\">dist_bias</th></tr><tr class = \"subheader headerLastRow\"><th class = \"rowNumber\" style = \"font-weight: bold; text-align: right;\"></th><th title = \"Float64\" style = \"text-align: left;\">Float64</th><th title = \"Float64\" style = \"text-align: left;\">Float64</th><th title = \"Float64\" style = \"text-align: left;\">Float64</th><th title = \"Float64\" style = \"text-align: left;\">Float64</th></tr></thead><tbody><tr><td class = \"rowNumber\" style = \"font-weight: bold; text-align: right;\">1</td><td style = \"text-align: right;\">2.50835</td><td style = \"text-align: right;\">0.18582</td><td style = \"text-align: right;\">0.640852</td><td style = \"text-align: right;\">-0.448581</td></tr></tbody></table></div>"
      ],
      "text/latex": [
       "\\begin{tabular}{r|cccc}\n",
       "\t& beta & alpha & ccwBias & dist\\_bias\\\\\n",
       "\t\\hline\n",
       "\t& Float64 & Float64 & Float64 & Float64\\\\\n",
       "\t\\hline\n",
       "\t1 & 2.50835 & 0.18582 & 0.640852 & -0.448581 \\\\\n",
       "\\end{tabular}\n"
      ],
      "text/plain": [
       "\u001b[1m1×4 DataFrame\u001b[0m\n",
       "\u001b[1m Row \u001b[0m│\u001b[1m beta    \u001b[0m\u001b[1m alpha   \u001b[0m\u001b[1m ccwBias  \u001b[0m\u001b[1m dist_bias \u001b[0m\n",
       "     │\u001b[90m Float64 \u001b[0m\u001b[90m Float64 \u001b[0m\u001b[90m Float64  \u001b[0m\u001b[90m Float64   \u001b[0m\n",
       "─────┼───────────────────────────────────────\n",
       "   1 │ 2.50835  0.18582  0.640852  -0.448581"
      ]
     },
     "execution_count": 33,
     "metadata": {},
     "output_type": "execute_result"
    }
   ],
   "source": [
    "df.sub = df.rat\n",
    "subs = unique(df.rat) # clustering on sessiosn right now\n",
    "NS = length(subs)\n",
    "X = ones(NS)\n",
    "\n",
    "betas = [0. 0 0 0];\n",
    "sigma = [1.,1,1.,1];\n",
    "@time (betasa,sigmaa,xa,la,ha) = em(df,subs,X,betas,sigma,qlik3port; maxiter=2000,emtol=1e-3, full=true);\n",
    "\n",
    "println(\"model qlik 3 port, aggregate log marginal likelihood: \",lml(xa,la,ha))\n",
    "q3portparams = DataFrame(xa,:auto)\n",
    "q3portparams = rename(q3portparams,:x1=>:beta,:x2=>:alpha,:x3=>:ccwBias,:x4=>:dist_bias)\n",
    "q3portparams[!,:alpha] = 0.5 .+ 0.5 .* erf.(q3portparams[!,:alpha]/sqrt(2))\n",
    "CSV.write(\"T:\\\\ACh Rats\\\\80B8CE6 (Ceecee)\\\\03082024-L\\\\tri_q3port_params.csv\",q3portparams)\n",
    "q3portparams"
   ]
  },
  {
   "cell_type": "code",
   "execution_count": 81,
   "id": "ff3fd9b7-656c-46a0-ab1e-2c42452944c4",
   "metadata": {},
   "outputs": [
    {
     "ename": "LoadError",
     "evalue": "UndefVarError: `q3portparams` not defined",
     "output_type": "error",
     "traceback": [
      "UndefVarError: `q3portparams` not defined",
      ""
     ]
    }
   ],
   "source": []
  },
  {
   "cell_type": "code",
   "execution_count": null,
   "id": "d2f2a815-240e-40d8-9e2a-1a8415982fb9",
   "metadata": {},
   "outputs": [],
   "source": []
  }
 ],
 "metadata": {
  "kernelspec": {
   "display_name": "Julia 1.10.2",
   "language": "julia",
   "name": "julia-1.10"
  },
  "language_info": {
   "file_extension": ".jl",
   "mimetype": "application/julia",
   "name": "julia",
   "version": "1.10.2"
  }
 },
 "nbformat": 4,
 "nbformat_minor": 5
}
