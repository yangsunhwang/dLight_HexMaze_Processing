#import sys
#sys.path.insert(0, '/Users/timkrausz/Documents/GitHub/Maze-photometry-analyses/')


import numpy as np
import pandas as pd
import csv
import matplotlib.pyplot as plt
import scipy.io
import statsmodels.api as sm
from sklearn.linear_model import Lasso
#from phot_funcs import *
import ipywidgets as widgets
from ipywidgets import interact, interactive, fixed, interact_manual
import numpy as np
import matplotlib.pyplot as plt
from matplotlib.widgets import Slider
from TriFuncs import airPLS, WhittakerSmooth, get_zdFF



def transform_scatter(points, image, rotate_center=(0,0)):
    fig, ax = plt.subplots(figsize=(12,10))
    plt.subplots_adjust(left=0.25, bottom=0.25)

    ax.imshow(image, extent=[0, 640, 0, 480])
    scatter = ax.scatter(points[:,0], points[:,1],marker='H',color='steelblue',alpha=0.5,s=1000)

    axcolor = 'lightgoldenrodyellow'
    ax_scale = plt.axes([0.25, 0.1, 0.65, 0.03], facecolor=axcolor)
    ax_translate_x = plt.axes([0.25, 0.05, 0.65, 0.03], facecolor=axcolor)
    ax_translate_y = plt.axes([0.25, 0.0, 0.65, 0.03], facecolor=axcolor)
    ax_rotate = plt.axes([0.25, 0.15, 0.65, 0.03], facecolor=axcolor)

    s_scale = Slider(ax_scale, 'Scale', 0.1, 1.5, valinit=1.0)
    s_translate_x = Slider(ax_translate_x, 'Translate X', -200, 200, valinit=0)
    s_translate_y = Slider(ax_translate_y, 'Translate Y', -200, 200, valinit=0)
    s_rotate = Slider(ax_rotate, 'Rotate', -30, 30, valinit=0)

    def update(val):
        #clear_output()
        scale = s_scale.val
        translate_x = s_translate_x.val
        translate_y = s_translate_y.val
        rotate_deg = s_rotate.val

        # Scale
        scale_matrix = np.array([[scale, 0, 0],
                                 [0, scale, 0],
                                 [0, 0, 1]])

        # Translate
        translate_matrix = np.array([[1, 0, translate_x],
                                     [0, 1, translate_y],
                                     [0, 0, 1]])

        # Rotate
        rotate_rad = np.deg2rad(rotate_deg)
        rotate_matrix = np.array([[np.cos(rotate_rad), -np.sin(rotate_rad), 0],
                                  [np.sin(rotate_rad), np.cos(rotate_rad), 0],
                                  [0, 0, 1]])

        # Rotate around specified center
        center_matrix = np.array([[1, 0, rotate_center[0]],
                                  [0, 1, rotate_center[1]],
                                  [0, 0, 1]])
        center_translate_matrix = np.array([[1, 0, -rotate_center[0]],
                                            [0, 1, -rotate_center[1]],
                                            [0, 0, 1]])
        rotate_around_center_matrix = center_translate_matrix.dot(rotate_matrix).dot(center_matrix)

        # Transform points
        transform_matrix = rotate_around_center_matrix.dot(scale_matrix).dot(translate_matrix)
        transformed_points = transform_matrix.dot(points.T).T

        # Update scatter plot
        scatter.set_offsets(transformed_points[:,:2])
        #scatter.set_color(transformed_points[:,2])

        fig.canvas.draw_idle()
        global new_coords
        new_coords = transformed_points[:,:2]
        global transformParams
        print("rotate degree, scale, x tran, y tran = ",[rotate_deg,scale,translate_x,translate_y])
        transformParams = [rotate_deg,scale,translate_x,translate_y]
        #print(transformed_points)
    s_scale.on_changed(update)
    s_translate_x.on_changed(update)
    s_translate_y.on_changed(update)
    s_rotate.on_changed(update)

    plt.show()
    
def assign_to_hexagon(x, y, centroids):
    """
    Assigns each point in the given x-y coordinate vector to the closest hexagonal region of interest
    with the specified centroids.
    Parameters:
        x (np.ndarray): A 1D numpy array of x-coordinates.
        y (np.ndarray): A 1D numpy array of y-coordinates.
        centroids (np.ndarray): A 2D numpy array of hexagonal region centroids, where each row contains
            the x and y coordinates of the centroid of a region of interest.
    Returns:
        A 1D numpy array of integers, where each element is the index of the closest centroid in the
        centroids array.
    """
    # Calculate the Euclidean distance between each point and each centroid
    x_np = np.array(x) if not isinstance(x, np.ndarray) else x
    y_np = np.array(y) if not isinstance(y, np.ndarray) else y
    distances = np.sqrt((x_np[:, np.newaxis] - centroids[:, 0])**2 + (y_np[:, np.newaxis] - centroids[:, 1])**2)
    # Find the index of the closest centroid for each point
    closest_centroid_indices = np.argmin(distances, axis=1) +1
    
    return closest_centroid_indices
    

#compute the centroids of the initial hexagons
hexlist = [2,47,46,45,44,43,3,\
49,42,41,40,39,48,\
38,37,36,35,34,33,\
32,31,30,29,28,\
27,26,25,24,23,\
22,21,20,19,\
18,17,16,15,\
14,13,12,\
11,10,9,\
8,7,\
6,5,\
4,\
1]
#hexlist = np.subtract(hexlist,1) #convert to index-based states
coords = []
cols = [7,6,6,5,5,4,4,3,3,2,2,1,1]
maxrows = 13
r = 0
x = 1
y = 1
startr = 1
while r < maxrows:
    maxcols = cols[r]
    c = 0
    if r%2!=0:
        startr+=1
    x=startr
    while c < maxcols:
        coords.append([x,y])
        x += 2
        c += 1
    if r%2!=0:
        y += 2
    else:
        y+=1
    r += 1
cents = {h: c for h,c in zip(hexlist,coords)}


# define the centroids of the hexagons
centroids = np.zeros((49,2))
for h in list(cents.keys()):
    centroids[h-1] = cents[h]

centroids[:,0] = centroids[:,0]/centroids[:,0].max()*450 +80
centroids[:,1] = centroids[:,1]/centroids[:,1].max()*410




noPhot = False








animal = "IM-1566"
date = "04212023"
ses_type = "prob"


#animal = "IM-"+input('rat: ') #i.e. IM-1006
#date = input('date: ') #format: mmddyyyy
#ses_type = input('Block change = prob or barrier? ')

#filepath = "/Volumes/Tim-1/Photometry/"+ animal + '/'
filepath = "W:/Photometry/"+ animal + '/'
analcolor = 'green'# input('color of dLight?')
filecount = '0'# input('file suffix number: ')
# std used for gaussian smoothing of position data. In Weill building,
# recommend using sigma = 2
gausSigma = 0.1
usePosSmoothing = False

if noPhot:
    rec_folder = input("recording folder name? (yyyy-mm-dd_hh-mm-ss)")
    import phot_to_dframes_noPhot
    phot_to_dframes = phot_to_dframes_noPhot
    location = "None"
else:
    import phot_to_dframes
    location = phot_to_dframes.location

sampledata = phot_to_dframes.sampledata
tridat = phot_to_dframes.tridat
visinds = sampledata.loc[sampledata.port.notnull(),:].index
fs = phot_to_dframes.Fs
datepath = savepath = phot_to_dframes.datepath


i = 0


%matplotlib inline


plt.figure()
plt.plot(sampledata.loc[visinds[i+0]:visinds[i+1],'x'].interpolate(),sampledata.loc[visinds[i+0]:visinds[i+1],'y'].interpolate())
plt.plot(sampledata.loc[visinds[i+1]:visinds[i+2],'x'].interpolate(),sampledata.loc[visinds[i+1]:visinds[i+2],'y'].interpolate())
i += 1





xBadRange = [520,535]
yBadRange = [440,454]
sampledata.loc[(sampledata.x>xBadRange[0])&(sampledata.x<xBadRange[1])\
              &(sampledata.y>yBadRange[0])&(sampledata.y<yBadRange[1]),['x','y']]=np.nan


plt.figure()
plt.scatter(sampledata.loc[visinds[i+0]:visinds[i+1],'x'],sampledata.loc[visinds[i+0]:visinds[i+1],'y'])
plt.scatter(sampledata.loc[visinds[i+1]:visinds[i+2],'x'],sampledata.loc[visinds[i+1]:visinds[i+2],'y'])
i += 1





sampledata.loc[:,"x"] = sampledata.loc[:,"x"].values+85





y_pos = sampledata.y.values
y_midpoint = 480/2
flipped_y_values = y_midpoint + (y_midpoint - y_pos)
sampledata.loc[:,"y"] = flipped_y_values


%matplotlib qt





import imageio
fname = datepath+'Behav_Vid'+filecount+'.avi'
vid = imageio.get_reader(fname, 'ffmpeg')

from fit_hex_grid import *
hexmap = HexMap(None,None,
                None,ses_type)





transform_scatter(np.hstack([centroids,np.ones((len(centroids),1))]),vid.get_data(1000),rotate_center=[640/2,480/2])


transformParams





np.save(datepath+"transformparams.npy",transformParams)
print("latest saved in "+datepath+"transformparams.npy")





paramLoadPath = "W:/Photometry/IM-1566/04252023/"
[rotate_deg,scale,translate_x,translate_y] = np.load(paramLoadPath+"transformparams.npy")

points = np.hstack([centroids,np.ones((len(centroids),1))])

rotate_center=[640/2,480/2]
# Scale
scale_matrix = np.array([[scale, 0, 0],
                         [0, scale, 0],
                         [0, 0, 1]])

# Translate
translate_matrix = np.array([[1, 0, translate_x],
                             [0, 1, translate_y],
                             [0, 0, 1]])

# Rotate
rotate_rad = np.deg2rad(rotate_deg)
rotate_matrix = np.array([[np.cos(rotate_rad), -np.sin(rotate_rad), 0],
                          [np.sin(rotate_rad), np.cos(rotate_rad), 0],
                          [0, 0, 1]])

# Rotate around specified center
center_matrix = np.array([[1, 0, rotate_center[0]],
                          [0, 1, rotate_center[1]],
                          [0, 0, 1]])
center_translate_matrix = np.array([[1, 0, -rotate_center[0]],
                                    [0, 1, -rotate_center[1]],
                                    [0, 0, 1]])
rotate_around_center_matrix = center_translate_matrix.dot(rotate_matrix).dot(center_matrix)

# Transform points
transform_matrix = rotate_around_center_matrix.dot(scale_matrix).dot(translate_matrix)
transformed_points = transform_matrix.dot(points.T).T

new_coords = transformed_points[:,:2]


print(rotate_deg,scale,translate_x,translate_y)





all_bars = []
bind = 0


blocks = sampledata.block.unique()


def onclick(event):
    global ix, iy
    ix, iy = event.xdata, event.ydata
    print("x = %d, y = %d" % (ix, iy))
    bar_coords.append((ix, iy))
print('max ind = ',len(blocks)-1)
b = blocks[bind]
ind = int(sampledata.loc[sampledata.block==b].index[int(250*300)]/250*15) #5min into block
fig,ax = plt.subplots(figsize=(14,10))
ax.imshow(vid.get_data(ind), extent=[0, 640, 0, 480])
plt.scatter(new_coords[:,0],new_coords[:,1],marker='H',color='steelblue',alpha=0.5,s=1000)
#for h in range(len(hexmap.ids)):
#    plt.text(hexmap.new_hexes[h].centroid.x-10,hexmap.new_hexes[h].centroid.y+10,hexmap.ids[h],\
#            color='whitesmoke',fontweight='demibold')
bar_coords = []
# connect the click event handler
cid = fig.canvas.mpl_connect('button_press_event', onclick)

# show the plot
plt.show()


bar_coords


all_bars.append(assign_to_hexagon(np.array(bar_coords)[:,0],np.array(bar_coords)[:,1],new_coords))
bind += 1





hexes = assign_to_hexagon(sampledata.loc[sampledata.x.notnull(),'x'],sampledata.loc[sampledata.x.notnull(),'y'],new_coords)





plt.figure()
plt.scatter(sampledata.loc[sampledata.x.notnull(),'x'].values,sampledata.loc[sampledata.x.notnull(),'y'].values,color='darkred')
plt.scatter(new_coords[:,0],new_coords[:,1],marker='H',color='steelblue',alpha=0.5,s=1000)


def plot_pos_and_its_hex(i):
    plt.clf()
    plt.scatter(sampledata.loc[sampledata.x.notnull(),'x'].values[i],sampledata.loc[sampledata.x.notnull(),'y'].values[i])
    plt.scatter(new_coords[:,0],new_coords[:,1],marker='H',color='steelblue',alpha=0.5,s=1000)
    plt.scatter(new_coords[hexes[i]-1,0],new_coords[hexes[i]-1,1],marker='H',color='darkred',alpha=0.5,s=1000)


plt.figure()
interact(plot_pos_and_its_hex,i = widgets.IntSlider(
    value=20000,
    min=1,
    max=len(sampledata.loc[sampledata.x.notnull(),'x']),
    step=1,
    description='frame #:'))


#seshdat = Photrat(animal,date)
#seshdat.df = sampledata


all_bars


all_bars[2]


#only when you have island
all_bars[2] = np.concatenate([all_bars[2],[11]])


#seshdat.barIDs = np.array(barrier_ids)
#if barrier session, do for each block
#seshdat.tmats = {b:[] for b in np.arange(len(blocks))}
if ses_type == 'barrier':
    segments = []
    branches = []
    for b in range(len(blocks)):
        hexmap.bar_ids = all_bars[b]
        hexmap.bar_ids = [float(f) for f in hexmap.bar_ids]
        mapfig = plot_hex_outline(size='lg',bars=hexmap.bar_ids)
        mapfig.savefig(datepath+"/hex_layout_block"+str(blocks[b])+".pdf")
        plt.title('animal: '+animal+'. Block '+str(blocks[b])+'. '+date)
        transition_matrix = hexmap.plot_sesh_tmat(blocks[b])
        #seshdat.tmats[b] = transition_matrix
        plt.title('animal: '+animal+'. Block '+str(blocks[b])+'. '+date)
        plt.tight_layout()
        np.save(datepath+"/tmat_block_"+str(blocks[b]),transition_matrix)
    np.save(datepath+'/segments',segments)
else:
    hexmap.bar_ids = all_bars[0]
    hexmap.bar_ids = [float(f) for f in hexmap.bar_ids]
    mapfig = plot_hex_outline(size='lg',bars=hexmap.bar_ids)
    mapfig.savefig(datepath+"/hex_layout.pdf")
    plt.title('animal: '+animal+'. '+date)
    transition_matrix = hexmap.plot_sesh_tmat()
    #seshdat.tmats[0] = transition_matrix
    plt.title('animal: '+animal+'. '+date)
    plt.tight_layout()
    np.save(datepath+"/tmat",transition_matrix)





crit_cps = [[24,29]]
if ses_type == 'barrier':
    for b in range(len(blocks)):
        np.save(datepath+"/cps_block_"+str(blocks[b]),crit_cps[b])
else:
    np.save(datepath+"/cps",crit_cps[0])





sampledata.loc[:,'hexlabels'] = -1
sampledata.loc[sampledata.x.notnull(),'hexlabels'] = hexes
sampledata.loc[:,'hexlabels'] = sampledata.loc[:,'hexlabels'].replace(-1,method='ffill')





sampledata.to_csv(savepath+animal+'_'+date+'_'+'h_sampleframe.csv')





rwd_traces = []
om_traces = []
xvals = np.arange(-5*250,5*250+1)/250
for i in visinds:
    if sampledata.loc[i,'rwd']==1:
        rwd_traces.append(sampledata.loc[i-250*5:i+250*5,"green_z_scored"].values)
    else:
        trace = sampledata.loc[i-250*5:i+250*5,"green_z_scored"].values
        if len(trace)==len(xvals):
            om_traces.append(trace)
fig = plt.figure()
plt.plot(xvals,np.mean(rwd_traces,axis=0),color='firebrick',alpha=0.8)
plt.plot(xvals,np.mean(om_traces,axis=0),color='blue',alpha=0.8)
plt.axvline(x=0,ls='--',color='k')
plt.xlabel("time from port entry (s)",fontsize='xx-large')
plt.ylabel("DA (z-scored)",fontsize='xx-large')
plt.tight_layout()
fig.savefig(datepath+"meanRwdOmRespone.pdf")



