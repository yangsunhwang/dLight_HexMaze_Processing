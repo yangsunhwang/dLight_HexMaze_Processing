import matplotlib.pyplot as plt
from matplotlib.widgets import RectangleSelector
import mplcursors
import mpldatacursor

# Sample data
x_data = [1, 2, 3, 4, 5]
y_data = [10, 14, 18, 24, 30]

# Create a scatter plot
fig, ax = plt.subplots()
scatter = ax.scatter(x_data, y_data, s=100)

# Customize plot appearance
ax.set_title('Select Area to Zoom In')
ax.set_xlabel('X-axis')
ax.set_ylabel('Y-axis')

# Define a callback function for rectangle selection
def onselect(eclick, erelease):
    if eclick.ydata > erelease.ydata:
        eclick.ydata, erelease.ydata = erelease.ydata, eclick.ydata
    if eclick.xdata > erelease.xdata:
        eclick.xdata, erelease.xdata = erelease.xdata, eclick.xdata

    ax.set_xlim([eclick.xdata, erelease.xdata])
    ax.set_ylim([eclick.ydata, erelease.ydata])
    plt.draw()

# Create a RectangleSelector
rect_selector = RectangleSelector(ax, onselect, useblit=False,
                                   button=[1],  # use left button to draw
                                   minspanx=5, minspany=5,
                                   spancoords='pixels',
                                   interactive=True)
# Enable hovering to display data values
mplcursors.cursor(hover=True)

# Enable data cursor to display values interactively
mpldatacursor.datacursor(display='multiple', draggable=True)

plt.show()


import matplotlib.pyplot as plt

# Sample data
x_data = [1, 2, 3, 4, 5]
y_data = [10, 14, 18, 24, 30]

# Create a scatter plot
fig, ax = plt.subplots()
scatter = ax.scatter(x_data, y_data, s=100)

# Enable zooming and panning with the toolbar
toolbar = plt.get_current_fig_manager().toolbar
toolbar.zoom(True)

# Customize plot appearance
ax.set_title('Interactive Plot with Click and Zoom')
ax.set_xlabel('X-axis')
ax.set_ylabel('Y-axis')

plt.show()


import matplotlib.pyplot as plt

# Sample data
x_data = [1, 2, 3, 4, 5]
y_data = [10, 14, 18, 24, 30]

# Create a scatter plot
fig, ax = plt.subplots()
scatter = ax.scatter(x_data, y_data, s=100)

# Customize plot appearance
ax.set_title('Interactive Plot with Click and Zoom')
ax.set_xlabel('X-axis')
ax.set_ylabel('Y-axis')

def on_click(event):
    if event.dblclick:
        factor = 1.5  # Adjust the zoom factor as needed
        xlim = ax.get_xlim()
        ylim = ax.get_ylim()

        x_center = (event.xdata - xlim[0]) / (xlim[1] - xlim[0])
        y_center = (event.ydata - ylim[0]) / (ylim[1] - ylim[0])

        ax.set_xlim([event.xdata - (factor * (event.xdata - xlim[0])),
                     event.xdata + (factor * (xlim[1] - event.xdata))])
        ax.set_ylim([event.ydata - (factor * (event.ydata - ylim[0])),
                     event.ydata + (factor * (ylim[1] - event.ydata))])

        plt.draw()

plt.connect('button_press_event', on_click)

plt.show()



