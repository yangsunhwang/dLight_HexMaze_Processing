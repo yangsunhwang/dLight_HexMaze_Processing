{
 "cells": [
  {
   "cell_type": "markdown",
   "id": "1d5e9371-4485-4140-9d2e-b0f9e9003196",
   "metadata": {},
   "source": [
    "# Notebook to read probability variant data from maze and visualize port choices over trials"
   ]
  },
  {
   "cell_type": "code",
   "execution_count": 1,
   "id": "585d06c7-4248-481a-9e2c-53f81c2e3e57",
   "metadata": {
    "tags": []
   },
   "outputs": [],
   "source": [
    "import numpy as np\n",
    "import pandas as pd\n",
    "import csv\n",
    "import matplotlib.pyplot as plt\n",
    "from IPython.display import clear_output\n",
    "\n",
    "%matplotlib qt"
   ]
  },
  {
   "cell_type": "code",
   "execution_count": 2,
   "id": "a99d7574-5ddd-4195-a937-652470bd2b88",
   "metadata": {
    "tags": []
   },
   "outputs": [],
   "source": [
    "import os\n",
    "os.getcwd()\n",
    "from pathlib import Path"
   ]
  },
  {
   "cell_type": "code",
   "execution_count": 3,
   "id": "5939350a-c33f-4422-8843-a3b2781d4ff6",
   "metadata": {},
   "outputs": [
    {
     "data": {
      "text/plain": [
       "'c:\\\\Users\\\\yangsunhwang\\\\Documents\\\\GitHub\\\\dLight_HexMaze_Processing\\\\Behavior-aligned photometry analyses'"
      ]
     },
     "execution_count": 3,
     "metadata": {},
     "output_type": "execute_result"
    }
   ],
   "source": [
    "os.getcwd()"
   ]
  },
  {
   "cell_type": "markdown",
   "id": "9ab6ca24-a448-429f-b757-4c0144571e53",
   "metadata": {},
   "source": [
    "- Here, you will specify which animal and date to record from\n",
    "  - Be sure filepath specifies the directory of the stored data"
   ]
  },
  {
   "cell_type": "code",
   "execution_count": 4,
   "id": "70ba7278-db6a-4ea9-a895-cd8e33d05d57",
   "metadata": {
    "tags": []
   },
   "outputs": [],
   "source": [
    "#animal = \"IM-\"+input('rat IM#: ') #i.e. IM-1006\n",
    "animal = \"IM-1641\"\n",
    "date = input('date: ') #format: mmddyyyy\n",
    "ses_type = \"barrier\"#input('Block change = prob or barrier? ')\n",
    "filecount = input('file suffix number: ') # put 0, check the last number of text title\n",
    "#filepath = \"/Volumes/Tim/Photometry/\"+ animal + '/'\n",
    "filepath = \"W:/Training/\"+ animal + '/'\n",
    "#Now read data\n",
    "import create_triframe\n",
    "tridat = []\n",
    "tridat = create_triframe.tridat\n",
    "\n",
    "#bdt = create_triframe.plot_prob_matching(tridat)\n",
    "\n",
    "#bdt.savefig(create_triframe.savepath+'p_matching_in_time.pdf')"
   ]
  },
  {
   "cell_type": "markdown",
   "id": "a752455e-f539-4487-8e20-e22c9f9a1124",
   "metadata": {},
   "source": [
    "- run the following to plot probability matching over time and create figure object for later saving"
   ]
  },
  {
   "cell_type": "code",
   "execution_count": 5,
   "id": "c7d86535-84dc-4358-b062-fa11bde27375",
   "metadata": {
    "tags": []
   },
   "outputs": [
    {
     "name": "stdout",
     "output_type": "stream",
     "text": [
      "33\n",
      "99\n",
      "162\n",
      "223\n",
      "288\n",
      "323\n"
     ]
    }
   ],
   "source": [
    "bdt = create_triframe.plot_prob_matching(tridat)"
   ]
  },
  {
   "cell_type": "code",
   "execution_count": 6,
   "id": "02065cbf",
   "metadata": {},
   "outputs": [
    {
     "name": "stdout",
     "output_type": "stream",
     "text": [
      "\u001b[1;31mSignature:\u001b[0m \u001b[0mcreate_triframe\u001b[0m\u001b[1;33m.\u001b[0m\u001b[0mplot_prob_matching\u001b[0m\u001b[1;33m(\u001b[0m\u001b[0mtridat\u001b[0m\u001b[1;33m)\u001b[0m\u001b[1;33m\u001b[0m\u001b[1;33m\u001b[0m\u001b[0m\n",
      "\u001b[1;31mDocstring:\u001b[0m <no docstring>\n",
      "\u001b[1;31mFile:\u001b[0m      c:\\users\\yangsunhwang\\documents\\github\\dlight_hexmaze_processing\\behavior-aligned photometry analyses\\create_triframe.py\n",
      "\u001b[1;31mType:\u001b[0m      function"
     ]
    }
   ],
   "source": [
    "create_triframe.plot_prob_matching?"
   ]
  },
  {
   "cell_type": "markdown",
   "id": "1d5a87f2-51cd-470d-8238-3257da3308c0",
   "metadata": {},
   "source": [
    "- run the following to save the figure object \"bdt\" in the behavioral directory"
   ]
  },
  {
   "cell_type": "code",
   "execution_count": 6,
   "id": "67d3c29b-334c-4499-bb70-6dc40419eb6d",
   "metadata": {
    "tags": []
   },
   "outputs": [],
   "source": [
    "bdt.savefig(create_triframe.savepath+'p_matching_in_time.pdf')\n",
    "\n",
    "# Your code here\n",
    "\n",
    "clear_output(wait=True)"
   ]
  },
  {
   "cell_type": "code",
   "execution_count": 3,
   "id": "5d671d08-6e8b-4a49-8e0a-8609faeaa039",
   "metadata": {
    "tags": []
   },
   "outputs": [
    {
     "name": "stdout",
     "output_type": "stream",
     "text": [
      "date:  10272023\n",
      "file suffix number:  0\n"
     ]
    }
   ],
   "source": [
    "#yangsun's example\n",
    "\n",
    "\n",
    "date = input('date: ') #format: mmddyyyy\n",
    "ses_type = \"prob\"#input('Block change = prob or barrier? ')\n",
    "filecount = input('file suffix number: ')\n",
    "filepath = \"C:/Users/yangsunhwang/Documents/Maze/\"+ animal + '/'\n",
    "import create_triframe\n",
    "\n",
    "tridat = create_triframe.tridat"
   ]
  },
  {
   "cell_type": "code",
   "execution_count": 3,
   "id": "b75a31b6-569b-4644-97ce-49e03ce16442",
   "metadata": {
    "tags": []
   },
   "outputs": [
    {
     "ename": "NameError",
     "evalue": "name 'filepath' is not defined",
     "output_type": "error",
     "traceback": [
      "\u001b[1;31m---------------------------------------------------------------------------\u001b[0m",
      "\u001b[1;31mNameError\u001b[0m                                 Traceback (most recent call last)",
      "Cell \u001b[1;32mIn[3], line 2\u001b[0m\n\u001b[0;32m      1\u001b[0m \u001b[38;5;28;01mimport\u001b[39;00m \u001b[38;5;21;01mos\u001b[39;00m\n\u001b[1;32m----> 2\u001b[0m \u001b[38;5;28;01mimport\u001b[39;00m \u001b[38;5;21;01mcreate_triframe\u001b[39;00m\n\u001b[0;32m      3\u001b[0m \u001b[38;5;28;01mimport\u001b[39;00m \u001b[38;5;21;01mpandas\u001b[39;00m \u001b[38;5;28;01mas\u001b[39;00m \u001b[38;5;21;01mpd\u001b[39;00m\n\u001b[0;32m      6\u001b[0m animal_dates \u001b[38;5;241m=\u001b[39m {\n\u001b[0;32m      7\u001b[0m     \u001b[38;5;124m\"\u001b[39m\u001b[38;5;124mYSH1\u001b[39m\u001b[38;5;124m\"\u001b[39m: [\u001b[38;5;124m\"\u001b[39m\u001b[38;5;124m10202023\u001b[39m\u001b[38;5;124m\"\u001b[39m, \u001b[38;5;124m\"\u001b[39m\u001b[38;5;124m10242023\u001b[39m\u001b[38;5;124m\"\u001b[39m],\n\u001b[0;32m      8\u001b[0m     \u001b[38;5;124m\"\u001b[39m\u001b[38;5;124mYSH3\u001b[39m\u001b[38;5;124m\"\u001b[39m: [\u001b[38;5;124m\"\u001b[39m\u001b[38;5;124m10172023\u001b[39m\u001b[38;5;124m\"\u001b[39m, \u001b[38;5;124m\"\u001b[39m\u001b[38;5;124m10212023\u001b[39m\u001b[38;5;124m\"\u001b[39m,\u001b[38;5;124m\"\u001b[39m\u001b[38;5;124m10242023\u001b[39m\u001b[38;5;124m\"\u001b[39m,\u001b[38;5;124m\"\u001b[39m\u001b[38;5;124m10272023\u001b[39m\u001b[38;5;124m\"\u001b[39m]\n\u001b[0;32m      9\u001b[0m }  \u001b[38;5;66;03m# Dictionary of animal names and their corresponding dates\u001b[39;00m\n",
      "File \u001b[1;32m~\\Documents\\GitHub\\dLight_HexMaze_Processing\\Behavior-aligned photometry analyses\\create_triframe.py:19\u001b[0m\n\u001b[0;32m     16\u001b[0m \u001b[38;5;28;01mfrom\u001b[39;00m \u001b[38;5;21;01m__main__\u001b[39;00m \u001b[38;5;28;01mimport\u001b[39;00m \u001b[38;5;241m*\u001b[39m\n\u001b[0;32m     18\u001b[0m \u001b[38;5;66;03m#set path to access previously stored .mat files, etc. use scipy.io.loadmat()\u001b[39;00m\n\u001b[1;32m---> 19\u001b[0m datepath \u001b[38;5;241m=\u001b[39m filepath \u001b[38;5;241m+\u001b[39m date \u001b[38;5;241m+\u001b[39m \u001b[38;5;124m'\u001b[39m\u001b[38;5;124m/\u001b[39m\u001b[38;5;124m'\u001b[39m\n\u001b[0;32m     20\u001b[0m savepath \u001b[38;5;241m=\u001b[39m datepath\n\u001b[0;32m     22\u001b[0m \u001b[38;5;66;03m#import arduino behavioral data and their timestamps\u001b[39;00m\n",
      "\u001b[1;31mNameError\u001b[0m: name 'filepath' is not defined"
     ]
    }
   ],
   "source": [
    "import os\n",
    "\n",
    "import pandas as pd\n",
    "\n",
    "\n",
    "animal_dates = {\n",
    "    \"YSH1\": [\"10202023\", \"10242023\"],\n",
    "    \"YSH3\": [\"10172023\", \"10212023\",\"10242023\",\"10272023\"]\n",
    "}  # Dictionary of animal names and their corresponding dates\n",
    "\n",
    "ses_type = \"prob\"  # input('Block change = prob or barrier? ')\n",
    "filecount = input('file suffix number: ')\n",
    "main_folder = \"W:/Photometry/\"\n",
    "tridat = pd.DataFrame()  # Create an empty DataFrame to store the data\n",
    "filepath = main_folder + animal + '/' + date + '/'\n",
    "\n",
    "for animal, date_list in animal_dates.items():\n",
    "    for date in date_list:\n",
    "        filepath = main_folder + animal + '/' + date + '/'\n",
    "        # Loop through subfolders in the specified directory\n",
    "        for root, dirs, files in os.walk(filepath):\n",
    "            for file in files:\n",
    "                if file.endswith(\".csv\"):  # Modify the condition as needed\n",
    "                    # Load the data from the CSV file\n",
    "                    file_path = os.path.join(root, file)\n",
    "                    data = create_triframe.load_data(file_path)  # Modify this function to load your data\n",
    "                    tridat = pd.concat([tridat, data], ignore_index=True)\n",
    "\n",
    "                     # Generate the plot\n",
    "        bdt = create_triframe.plot_prob_matching(tridat)\n",
    "        bdt.savefig(create_triframe.savepath + 'p_matching_in_time.pdf')\n",
    "        tridat = pd.DataFrame()  # Reset the DataFrame for the next animal and date\n",
    "# Now tridat contains the data from all the CSV files in the specified folders and subfolders"
   ]
  }
 ],
 "metadata": {
  "kernelspec": {
   "display_name": "Python 3 (ipykernel)",
   "language": "python",
   "name": "python3"
  },
  "language_info": {
   "codemirror_mode": {
    "name": "ipython",
    "version": 3
   },
   "file_extension": ".py",
   "mimetype": "text/x-python",
   "name": "python",
   "nbconvert_exporter": "python",
   "pygments_lexer": "ipython3",
   "version": "3.11.5"
  }
 },
 "nbformat": 4,
 "nbformat_minor": 5
}
