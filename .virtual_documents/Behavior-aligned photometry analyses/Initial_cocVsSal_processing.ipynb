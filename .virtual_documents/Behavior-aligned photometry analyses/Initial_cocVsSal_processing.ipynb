import numpy as np
import matplotlib.pyplot as plt
import pandas as pd
import seaborn as sns
sns.set()
plt.style.use('default')
#plt.style.use("seaborn-poster")
plt.style.use("seaborn-talk")
from combined_phot_funcs import *
from combined_phot_funcs import PhotRats
from photometryQuantifications import *#removeErrantBlock1Assignments
%matplotlib qt


import os
import sys
#path1 = r'C:\\Users\\yangsunhwang\\Documents\\GitHub\\HC_decode_analyses\\Modules'
#sys.path += [path1]\n",
#os.chdir(path1)
print(os.getcwd())





seshDict = {"IM-1566":["04212023"]}#{"IM-1434":["04132022","04192022"]}{"IM-1566":["05162023"],"IM-1533":["12142022"]}
salRats = PhotRats(seshDict)
salRats.directory_prefix="W:/Photometry/"
salRats.load_dfs()
seshDict = {"IM-1566":["04252023"]}#{"IM-1434":["04202022"]}
cokeRats = PhotRats(seshDict)
cokeRats.directory_prefix="W:/Photometry/"
cokeRats.load_dfs()





cokeRats.df.loc[cokeRats.df.port.isnull(),"port"]=-100
salRats.df.loc[salRats.df.port.isnull(),"port"]=-100
cokeRats.df.loc[cokeRats.df.rwd.isnull(),'rwd'] = 0
salRats.df.loc[salRats.df.rwd.isnull(),'rwd'] = 0

cokeRats.df.loc[:,"session"] = cokeRats.df.loc[:,"session"].astype("int16")
cokeRats.df.loc[:,"block"] = cokeRats.df.loc[:,"block"].astype("int8")
cokeRats.df.loc[:,"port"] = cokeRats.df.loc[:,"port"].astype("int8")
cokeRats.df.loc[:,"rwd"] = cokeRats.df.loc[:,"rwd"].astype("int8")
salRats.df.loc[:,"session"] = salRats.df.loc[:,"session"].astype("int16")
salRats.df.loc[:,"block"] = salRats.df.loc[:,"block"].astype("int8")
salRats.df.loc[:,"port"] = salRats.df.loc[:,"port"].astype("int8")
salRats.df.loc[:,"rwd"] = salRats.df.loc[:,"rwd"].astype("int8")

removeErrantBlock1Assignments(salRats)
removeErrantBlock1Assignments(cokeRats)





cokeRats.df.loc[:,"post-Inj"] = 0
cokeRats.df.loc[:,"pre-Inj"] = 0
salRats.df.loc[:,"post-Inj"] = 0
salRats.df.loc[:,"pre-Inj"] = 0





timeAfterInj = 15
sessionStartExcludeTime = 10 # this deserves more discussion


rat = input("rat ID include IM-")
date = int(input("date"))
timeOfInj = int(input("time of injection? (min)"))
timeOfInj_sampleTime = timeOfInj*60*250
dat = cokeRats.df.loc[(cokeRats.df.rat==rat)&(cokeRats.df.date==date),:].copy()
startFill = dat.index.min()+timeOfInj_sampleTime+timeAfterInj*250*60
dat.loc[startFill:,"post-Inj"] = 1
dat.loc[sessionStartExcludeTime*250*60:dat.index.min()+timeOfInj_sampleTime,"pre-Inj"] = 1
cokeRats.df.loc[(cokeRats.df.rat==rat)&(cokeRats.df.date==date),:] = dat





rat = input("rat ID include IM-")
date = int(input("date"))
timeOfInj = int(input("time of injection? (min)"))
timeOfInj_sampleTime = timeOfInj*60*250
dat = salRats.df.loc[(salRats.df.rat==rat)&(salRats.df.date==date),:].copy()
startFill = dat.index.min()+timeOfInj_sampleTime+20*250*60
dat.loc[startFill:,"post-Inj"] = 1
dat.loc[10*250*60:dat.index.min()+timeOfInj_sampleTime,"pre-Inj"] = 1
salRats.df.loc[(salRats.df.rat==rat)&(salRats.df.date==date),:] = dat


create_triframe(cokeRats)
create_triframe(salRats)


cokeRats.df


timeOfInj_sampleTime+20*250*60


salRats.triframe.loc[salRats.triframe["pre-Inj"]==1].copy()


df = photrats.triframe.loc[photrats.triframe["post-Inj"]==1].copy() if postInj\
    else photrats.triframe.loc[photrats.triframe["pre-Inj"]==1].copy()
df['ratcodes'] = df.rat.astype('category').cat.codes


def get_log_pchoos_v_costNben(photrats,postInj=True):
    '''if postInj is true, only consider trials after injection,
    else, consider pre-injection time points.'''
    df = photrats.triframe.loc[photrats.triframe["post-Inj"]==1].copy() if postInj\
        else photrats.triframe.loc[photrats.triframe["pre-Inj"]==1].copy()
    df['ratcodes'] = df.rat.astype('category').cat.codes
    seshs=df.session.unique()
    for s in range(len(seshs)):
        print(s)
        sdf = df.loc[(df.session==seshs[s])].copy()
        rdf = pd.DataFrame({'pRwdDif':photrats.get_lr_dif_val(\
            sdf,'nom_rwd'),'ldif':photrats.get_lr_dif_val(sdf,'dist')})
        rdf['choose_L'] = sdf.lrchoice.values
        rdf['session']=s
        rdf['rat'] = sdf.ratcodes.values
        rdf['tri'] = sdf.tri.values
        rdf['block'] = sdf.block.values
        rdf.loc[:,"rt-1"] = np.nan
        sdf.reset_index(inplace=True)
        for p in range(3):
            lagInds = sdf.loc[sdf.port==p,:].index
            rdf.loc[lagInds,"rt-1"] = sdf.loc[lagInds,'rwd'].shift(1).values
        if s == 0:
            photrats.regdf = rdf
        else:
            photrats.regdf = photrats.regdf.append(rdf,ignore_index=True)
    photrats.regdf.loc[photrats.regdf.choose_L==2,'choose_L']=np.nan


def calc_choiceRegWeightsByRat(photrats):
    try:
        photrats.regdf
    except:
        print("choose left regDf not yet saved. Getting now...")
        get_log_pchoos_v_costNben(photrats)
        add_scaledVarsToRegDf(photrats)
    regWeights = np.zeros((len(photrats.triframe.rat.unique()),3))
    ratSigLevels = np.zeros((len(photrats.triframe.rat.unique()),3))
    for r in range(len(photrats.regdf.rat.unique())):
        regDf = photrats.regdf.loc[\
            (photrats.regdf.rat==photrats.regdf.rat.unique()[r])&(photrats.regdf.tri>25),\
            ["session","choose_L","rwdDifScaled","lengthDifScaled"]]
        regDf = regDf.loc[regDf.notnull().all(axis=1),:]
        y = regDf.loc[:,"choose_L"]
        X = regDf.loc[:,["rwdDifScaled","lengthDifScaled"]]
        betas,pvals = run_smLogRegWithPval(X,y)
        regWeights[r,:] = betas
        ratSigLevels[r,:] = pvals
        ratRegDf = pd.DataFrame(regWeights,columns=["intercept","relative p(R)","relative distance"])
        ratRegDf.loc[:,["intercept p value","relative p(R) p value","relative distance p value"]] = ratSigLevels
    return ratRegDf


get_log_pchoos_v_costNben(cokeRats,postInj=True)


cokeRats.regdf


get_log_pchoos_v_costNben(cokeRats,postInj=True)
add_scaledVarsToRegDf(cokeRats)
cokeRats.regdf = cokeRats.regdf.loc[cokeRats.regdf.tri>25,]



