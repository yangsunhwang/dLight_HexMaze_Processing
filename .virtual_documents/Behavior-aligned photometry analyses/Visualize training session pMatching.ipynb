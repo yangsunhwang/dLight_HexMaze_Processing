


import numpy as np
import pandas as pd
import csv
import matplotlib.pyplot as plt
from IPython.display import clear_output

%matplotlib qt


import os
os.getcwd()
from pathlib import Path


os.getcwd()





#animal = "IM-"+input('rat IM#: ') #i.e. IM-1006
animal = "IM-1566"
date = input('date: ') #format: mmddyyyy
ses_type = "prob"#input('Block change = prob or barrier? ')
filecount = input('file suffix number: ') # put 0, check the last number of text title
#filepath = "/Volumes/Tim/Photometry/"+ animal + '/'
filepath = "Z:/Photometry/"+ animal + '/'
yes
#Now read data
import create_triframe

tridat = create_triframe.tridat

#bdt = create_triframe.plot_prob_matching(tridat)

#bdt.savefig(create_triframe.savepath+'p_matching_in_time.pdf')





bdt = create_triframe.plot_prob_matching(tridat)





bdt.savefig(create_triframe.savepath+'p_matching_in_time.pdf')

# Your code here

clear_output(wait=True)


#yangsun's example


date = input('date: ') #format: mmddyyyy
ses_type = "prob"#input('Block change = prob or barrier? ')
filecount = input('file suffix number: ')
filepath = "C:/Users/yangsunhwang/Documents/Maze/"+ animal + '/'
import create_triframe

tridat = create_triframe.tridat


import os

import pandas as pd


animal_dates = {
    "YSH1": ["10202023", "10242023"],
    "YSH3": ["10172023", "10212023","10242023","10272023"]
}  # Dictionary of animal names and their corresponding dates

ses_type = "prob"  # input('Block change = prob or barrier? ')
filecount = input('file suffix number: ')
main_folder = "C:/Users/yangsunhwang/Documents/Maze/"
tridat = pd.DataFrame()  # Create an empty DataFrame to store the data
filepath = main_folder + animal + '/' + date + '/'

for animal, date_list in animal_dates.items():
    for date in date_list:
        filepath = main_folder + animal + '/' + date + '/'
        # Loop through subfolders in the specified directory
        for root, dirs, files in os.walk(filepath):
            for file in files:
                if file.endswith(".csv"):  # Modify the condition as needed
                    # Load the data from the CSV file
                    file_path = os.path.join(root, file)
                    data = create_triframe.load_data(file_path)  # Modify this function to load your data
                    tridat = pd.concat([tridat, data], ignore_index=True)

                     # Generate the plot
        bdt = create_triframe.plot_prob_matching(tridat)
        bdt.savefig(create_triframe.savepath + 'p_matching_in_time.pdf')
        tridat = pd.DataFrame()  # Reset the DataFrame for the next animal and date
# Now tridat contains the data from all the CSV files in the specified folders and subfolders
