{
 "cells": [
  {
   "cell_type": "code",
   "execution_count": 2,
   "id": "978db75b-20f7-4acb-91a6-8c946b26f9c2",
   "metadata": {
    "tags": []
   },
   "outputs": [
    {
     "name": "stderr",
     "output_type": "stream",
     "text": [
      "C:\\Users\\yangsunhwang\\AppData\\Local\\Temp\\ipykernel_31244\\3915811850.py:8: MatplotlibDeprecationWarning: The seaborn styles shipped by Matplotlib are deprecated since 3.6, as they no longer correspond to the styles shipped by seaborn. However, they will remain available as 'seaborn-v0_8-<style>'. Alternatively, directly use the seaborn API instead.\n",
      "  plt.style.use(\"seaborn-talk\")\n"
     ]
    }
   ],
   "source": [
    "import numpy as np\n",
    "import matplotlib.pyplot as plt\n",
    "import pandas as pd\n",
    "import seaborn as sns\n",
    "sns.set()\n",
    "plt.style.use('default')\n",
    "#plt.style.use(\"seaborn-poster\")\n",
    "plt.style.use(\"seaborn-talk\")\n",
    "from combined_phot_funcs import *\n",
    "from combined_phot_funcs import PhotRats\n",
    "from photometryQuantifications import *#removeErrantBlock1Assignments\n",
    "%matplotlib qt"
   ]
  },
  {
   "cell_type": "code",
   "execution_count": 3,
   "id": "75b92582-9907-4808-85f5-30e9c184cab7",
   "metadata": {},
   "outputs": [
    {
     "name": "stdout",
     "output_type": "stream",
     "text": [
      "C:\\Users\\yangsunhwang\\Documents\\GitHub\\dLight_HexMaze_Processing\\Behavior-aligned photometry analyses\n"
     ]
    }
   ],
   "source": [
    "import os\n",
    "import sys\n",
    "#path1 = r'C:\\\\Users\\\\yangsunhwang\\\\Documents\\\\GitHub\\\\HC_decode_analyses\\\\Modules'\n",
    "#sys.path += [path1]\\n\",\n",
    "#os.chdir(path1)\n",
    "print(os.getcwd())"
   ]
  },
  {
   "cell_type": "markdown",
   "id": "57cc8e4c-a3c0-440c-825b-fdc0f8bff8ce",
   "metadata": {},
   "source": [
    "# create saline and cocaine photometry PhotRats objects.\n",
    "- seshdicts are dictionaries of key = rat and values = dates within rat."
   ]
  },
  {
   "cell_type": "code",
   "execution_count": 4,
   "id": "0f9fde71-fdd6-4534-8ccf-71b6f8f4bddf",
   "metadata": {},
   "outputs": [
    {
     "name": "stdout",
     "output_type": "stream",
     "text": [
      "Memory usage of dataframe is 267.27 MB\n",
      "Memory usage after optimization is: 64.14 MB\n",
      "Decreased by 76.0%\n",
      "Memory usage of dataframe is 230.68 MB\n",
      "Memory usage after optimization is: 55.36 MB\n",
      "Decreased by 76.0%\n"
     ]
    }
   ],
   "source": [
    "seshDict = {\"IM-1566\":[\"04212023\"]}#{\"IM-1434\":[\"04132022\",\"04192022\"]}{\"IM-1566\":[\"05162023\"],\"IM-1533\":[\"12142022\"]}\n",
    "salRats = PhotRats(seshDict)\n",
    "salRats.directory_prefix=\"W:/Photometry/\"\n",
    "salRats.load_dfs()\n",
    "seshDict = {\"IM-1566\":[\"04252023\"]}#{\"IM-1434\":[\"04202022\"]}\n",
    "cokeRats = PhotRats(seshDict)\n",
    "cokeRats.directory_prefix=\"W:/Photometry/\"\n",
    "cokeRats.load_dfs()"
   ]
  },
  {
   "cell_type": "markdown",
   "id": "cb0afa48-8fcb-43a5-ae88-47c7123c0750",
   "metadata": {},
   "source": [
    "## minor data processing for memory etc."
   ]
  },
  {
   "cell_type": "code",
   "execution_count": 5,
   "id": "e0bf70c1-2224-4940-b080-f607b5c07f3a",
   "metadata": {},
   "outputs": [],
   "source": [
    "cokeRats.df.loc[cokeRats.df.port.isnull(),\"port\"]=-100\n",
    "salRats.df.loc[salRats.df.port.isnull(),\"port\"]=-100\n",
    "cokeRats.df.loc[cokeRats.df.rwd.isnull(),'rwd'] = 0\n",
    "salRats.df.loc[salRats.df.rwd.isnull(),'rwd'] = 0\n",
    "\n",
    "cokeRats.df.loc[:,\"session\"] = cokeRats.df.loc[:,\"session\"].astype(\"int16\")\n",
    "cokeRats.df.loc[:,\"block\"] = cokeRats.df.loc[:,\"block\"].astype(\"int8\")\n",
    "cokeRats.df.loc[:,\"port\"] = cokeRats.df.loc[:,\"port\"].astype(\"int8\")\n",
    "cokeRats.df.loc[:,\"rwd\"] = cokeRats.df.loc[:,\"rwd\"].astype(\"int8\")\n",
    "salRats.df.loc[:,\"session\"] = salRats.df.loc[:,\"session\"].astype(\"int16\")\n",
    "salRats.df.loc[:,\"block\"] = salRats.df.loc[:,\"block\"].astype(\"int8\")\n",
    "salRats.df.loc[:,\"port\"] = salRats.df.loc[:,\"port\"].astype(\"int8\")\n",
    "salRats.df.loc[:,\"rwd\"] = salRats.df.loc[:,\"rwd\"].astype(\"int8\")\n",
    "\n",
    "removeErrantBlock1Assignments(salRats)\n",
    "removeErrantBlock1Assignments(cokeRats)"
   ]
  },
  {
   "cell_type": "markdown",
   "id": "6e6ce1d5-b3c0-43ad-a068-8e63299bcf45",
   "metadata": {},
   "source": [
    "# create columns indicating pre or post injection"
   ]
  },
  {
   "cell_type": "code",
   "execution_count": 6,
   "id": "89f7b28e-b4af-4056-87c7-c8871e8bef41",
   "metadata": {},
   "outputs": [],
   "source": [
    "cokeRats.df.loc[:,\"post-Inj\"] = 0\n",
    "cokeRats.df.loc[:,\"pre-Inj\"] = 0\n",
    "salRats.df.loc[:,\"post-Inj\"] = 0\n",
    "salRats.df.loc[:,\"pre-Inj\"] = 0"
   ]
  },
  {
   "cell_type": "markdown",
   "id": "cf8b6e6f-4b49-485f-abe8-d72c2271560f",
   "metadata": {},
   "source": [
    "# for each rat and date in the cocaine object, input the time of injection (in minutes). This will fill in the dataframe columns, marking post-injection as 20min after, but this can be changed"
   ]
  },
  {
   "cell_type": "code",
   "execution_count": 7,
   "id": "af5f569a-d90e-4390-8a43-7a62e16bef1b",
   "metadata": {},
   "outputs": [],
   "source": [
    "timeAfterInj = 15\n",
    "sessionStartExcludeTime = 10 # this deserves more discussion"
   ]
  },
  {
   "cell_type": "code",
   "execution_count": 8,
   "id": "f25dff37-993a-495b-a7c1-95c54e4808c0",
   "metadata": {},
   "outputs": [
    {
     "name": "stdin",
     "output_type": "stream",
     "text": [
      "rat ID include IM- 1566\n",
      "date 4252023\n",
      "time of injection? (min) 24\n"
     ]
    }
   ],
   "source": [
    "rat = input(\"rat ID include IM-\")\n",
    "date = int(input(\"date\"))\n",
    "timeOfInj = int(input(\"time of injection? (min)\"))\n",
    "timeOfInj_sampleTime = timeOfInj*60*250\n",
    "dat = cokeRats.df.loc[(cokeRats.df.rat==rat)&(cokeRats.df.date==date),:].copy()\n",
    "startFill = dat.index.min()+timeOfInj_sampleTime+timeAfterInj*250*60\n",
    "dat.loc[startFill:,\"post-Inj\"] = 1\n",
    "dat.loc[sessionStartExcludeTime*250*60:dat.index.min()+timeOfInj_sampleTime,\"pre-Inj\"] = 1\n",
    "cokeRats.df.loc[(cokeRats.df.rat==rat)&(cokeRats.df.date==date),:] = dat"
   ]
  },
  {
   "cell_type": "markdown",
   "id": "67e088ea-5aa3-4d0c-ac41-0ebf9a59b1db",
   "metadata": {},
   "source": [
    "# do the same for saline rats. edit to add variables for time inclusion/exclusion"
   ]
  },
  {
   "cell_type": "code",
   "execution_count": 9,
   "id": "0b1cd9a2-bf7e-4469-830e-67e6cbeed299",
   "metadata": {
    "tags": []
   },
   "outputs": [
    {
     "name": "stdin",
     "output_type": "stream",
     "text": [
      "rat ID include IM- 1566\n",
      "date 4212023\n",
      "time of injection? (min) 45\n"
     ]
    }
   ],
   "source": [
    "rat = input(\"rat ID include IM-\")\n",
    "date = int(input(\"date\"))\n",
    "timeOfInj = int(input(\"time of injection? (min)\"))\n",
    "timeOfInj_sampleTime = timeOfInj*60*250\n",
    "dat = salRats.df.loc[(salRats.df.rat==rat)&(salRats.df.date==date),:].copy()\n",
    "startFill = dat.index.min()+timeOfInj_sampleTime+20*250*60\n",
    "dat.loc[startFill:,\"post-Inj\"] = 1\n",
    "dat.loc[10*250*60:dat.index.min()+timeOfInj_sampleTime,\"pre-Inj\"] = 1\n",
    "salRats.df.loc[(salRats.df.rat==rat)&(salRats.df.date==date),:] = dat"
   ]
  },
  {
   "cell_type": "code",
   "execution_count": 10,
   "id": "84d2a68e-2b28-494a-9afe-6909feae6854",
   "metadata": {},
   "outputs": [],
   "source": [
    "create_triframe(cokeRats)\n",
    "create_triframe(salRats)"
   ]
  },
  {
   "cell_type": "code",
   "execution_count": 25,
   "id": "07be71c4-3b27-4a7b-84df-3ea8e7365e1e",
   "metadata": {},
   "outputs": [
    {
     "data": {
      "text/html": [
       "<div>\n",
       "<style scoped>\n",
       "    .dataframe tbody tr th:only-of-type {\n",
       "        vertical-align: middle;\n",
       "    }\n",
       "\n",
       "    .dataframe tbody tr th {\n",
       "        vertical-align: top;\n",
       "    }\n",
       "\n",
       "    .dataframe thead th {\n",
       "        text-align: right;\n",
       "    }\n",
       "</style>\n",
       "<table border=\"1\" class=\"dataframe\">\n",
       "  <thead>\n",
       "    <tr style=\"text-align: right;\">\n",
       "      <th></th>\n",
       "      <th>index</th>\n",
       "      <th>x</th>\n",
       "      <th>y</th>\n",
       "      <th>port</th>\n",
       "      <th>rwd</th>\n",
       "      <th>block</th>\n",
       "      <th>ref</th>\n",
       "      <th>vel</th>\n",
       "      <th>acc</th>\n",
       "      <th>tri</th>\n",
       "      <th>...</th>\n",
       "      <th>lenBC</th>\n",
       "      <th>lenAB</th>\n",
       "      <th>dtop</th>\n",
       "      <th>nom_rwd_a</th>\n",
       "      <th>nom_rwd_b</th>\n",
       "      <th>nom_rwd_c</th>\n",
       "      <th>hexlabels</th>\n",
       "      <th>session</th>\n",
       "      <th>post-Inj</th>\n",
       "      <th>pre-Inj</th>\n",
       "    </tr>\n",
       "  </thead>\n",
       "  <tbody>\n",
       "    <tr>\n",
       "      <th>0</th>\n",
       "      <td>0</td>\n",
       "      <td>NaN</td>\n",
       "      <td>NaN</td>\n",
       "      <td>-100.0</td>\n",
       "      <td>0.0</td>\n",
       "      <td>1.0</td>\n",
       "      <td>0.109619</td>\n",
       "      <td>NaN</td>\n",
       "      <td>NaN</td>\n",
       "      <td>1.0</td>\n",
       "      <td>...</td>\n",
       "      <td>19.0</td>\n",
       "      <td>23.0</td>\n",
       "      <td>19.0</td>\n",
       "      <td>50.0</td>\n",
       "      <td>90.0</td>\n",
       "      <td>10.0</td>\n",
       "      <td>-1</td>\n",
       "      <td>1</td>\n",
       "      <td>0</td>\n",
       "      <td>0</td>\n",
       "    </tr>\n",
       "    <tr>\n",
       "      <th>1</th>\n",
       "      <td>1</td>\n",
       "      <td>NaN</td>\n",
       "      <td>NaN</td>\n",
       "      <td>-100.0</td>\n",
       "      <td>0.0</td>\n",
       "      <td>1.0</td>\n",
       "      <td>0.105225</td>\n",
       "      <td>NaN</td>\n",
       "      <td>NaN</td>\n",
       "      <td>1.0</td>\n",
       "      <td>...</td>\n",
       "      <td>19.0</td>\n",
       "      <td>23.0</td>\n",
       "      <td>19.0</td>\n",
       "      <td>50.0</td>\n",
       "      <td>90.0</td>\n",
       "      <td>10.0</td>\n",
       "      <td>-1</td>\n",
       "      <td>1</td>\n",
       "      <td>0</td>\n",
       "      <td>0</td>\n",
       "    </tr>\n",
       "    <tr>\n",
       "      <th>2</th>\n",
       "      <td>2</td>\n",
       "      <td>NaN</td>\n",
       "      <td>NaN</td>\n",
       "      <td>-100.0</td>\n",
       "      <td>0.0</td>\n",
       "      <td>1.0</td>\n",
       "      <td>0.100403</td>\n",
       "      <td>NaN</td>\n",
       "      <td>NaN</td>\n",
       "      <td>1.0</td>\n",
       "      <td>...</td>\n",
       "      <td>19.0</td>\n",
       "      <td>23.0</td>\n",
       "      <td>19.0</td>\n",
       "      <td>50.0</td>\n",
       "      <td>90.0</td>\n",
       "      <td>10.0</td>\n",
       "      <td>-1</td>\n",
       "      <td>1</td>\n",
       "      <td>0</td>\n",
       "      <td>0</td>\n",
       "    </tr>\n",
       "    <tr>\n",
       "      <th>3</th>\n",
       "      <td>3</td>\n",
       "      <td>NaN</td>\n",
       "      <td>NaN</td>\n",
       "      <td>-100.0</td>\n",
       "      <td>0.0</td>\n",
       "      <td>1.0</td>\n",
       "      <td>0.095703</td>\n",
       "      <td>NaN</td>\n",
       "      <td>NaN</td>\n",
       "      <td>1.0</td>\n",
       "      <td>...</td>\n",
       "      <td>19.0</td>\n",
       "      <td>23.0</td>\n",
       "      <td>19.0</td>\n",
       "      <td>50.0</td>\n",
       "      <td>90.0</td>\n",
       "      <td>10.0</td>\n",
       "      <td>-1</td>\n",
       "      <td>1</td>\n",
       "      <td>0</td>\n",
       "      <td>0</td>\n",
       "    </tr>\n",
       "    <tr>\n",
       "      <th>4</th>\n",
       "      <td>4</td>\n",
       "      <td>NaN</td>\n",
       "      <td>NaN</td>\n",
       "      <td>-100.0</td>\n",
       "      <td>0.0</td>\n",
       "      <td>1.0</td>\n",
       "      <td>0.091431</td>\n",
       "      <td>NaN</td>\n",
       "      <td>NaN</td>\n",
       "      <td>1.0</td>\n",
       "      <td>...</td>\n",
       "      <td>19.0</td>\n",
       "      <td>23.0</td>\n",
       "      <td>19.0</td>\n",
       "      <td>50.0</td>\n",
       "      <td>90.0</td>\n",
       "      <td>10.0</td>\n",
       "      <td>-1</td>\n",
       "      <td>1</td>\n",
       "      <td>0</td>\n",
       "      <td>0</td>\n",
       "    </tr>\n",
       "    <tr>\n",
       "      <th>...</th>\n",
       "      <td>...</td>\n",
       "      <td>...</td>\n",
       "      <td>...</td>\n",
       "      <td>...</td>\n",
       "      <td>...</td>\n",
       "      <td>...</td>\n",
       "      <td>...</td>\n",
       "      <td>...</td>\n",
       "      <td>...</td>\n",
       "      <td>...</td>\n",
       "      <td>...</td>\n",
       "      <td>...</td>\n",
       "      <td>...</td>\n",
       "      <td>...</td>\n",
       "      <td>...</td>\n",
       "      <td>...</td>\n",
       "      <td>...</td>\n",
       "      <td>...</td>\n",
       "      <td>...</td>\n",
       "      <td>...</td>\n",
       "      <td>...</td>\n",
       "    </tr>\n",
       "    <tr>\n",
       "      <th>1162138</th>\n",
       "      <td>1162138</td>\n",
       "      <td>NaN</td>\n",
       "      <td>NaN</td>\n",
       "      <td>-100.0</td>\n",
       "      <td>0.0</td>\n",
       "      <td>8.0</td>\n",
       "      <td>4.390625</td>\n",
       "      <td>NaN</td>\n",
       "      <td>NaN</td>\n",
       "      <td>64.0</td>\n",
       "      <td>...</td>\n",
       "      <td>19.0</td>\n",
       "      <td>23.0</td>\n",
       "      <td>19.0</td>\n",
       "      <td>50.0</td>\n",
       "      <td>10.0</td>\n",
       "      <td>90.0</td>\n",
       "      <td>3</td>\n",
       "      <td>1</td>\n",
       "      <td>0</td>\n",
       "      <td>0</td>\n",
       "    </tr>\n",
       "    <tr>\n",
       "      <th>1162139</th>\n",
       "      <td>1162139</td>\n",
       "      <td>NaN</td>\n",
       "      <td>NaN</td>\n",
       "      <td>-100.0</td>\n",
       "      <td>0.0</td>\n",
       "      <td>8.0</td>\n",
       "      <td>4.390625</td>\n",
       "      <td>NaN</td>\n",
       "      <td>NaN</td>\n",
       "      <td>64.0</td>\n",
       "      <td>...</td>\n",
       "      <td>19.0</td>\n",
       "      <td>23.0</td>\n",
       "      <td>19.0</td>\n",
       "      <td>50.0</td>\n",
       "      <td>10.0</td>\n",
       "      <td>90.0</td>\n",
       "      <td>3</td>\n",
       "      <td>1</td>\n",
       "      <td>0</td>\n",
       "      <td>0</td>\n",
       "    </tr>\n",
       "    <tr>\n",
       "      <th>1162140</th>\n",
       "      <td>1162140</td>\n",
       "      <td>NaN</td>\n",
       "      <td>NaN</td>\n",
       "      <td>-100.0</td>\n",
       "      <td>0.0</td>\n",
       "      <td>8.0</td>\n",
       "      <td>4.394531</td>\n",
       "      <td>NaN</td>\n",
       "      <td>NaN</td>\n",
       "      <td>64.0</td>\n",
       "      <td>...</td>\n",
       "      <td>19.0</td>\n",
       "      <td>23.0</td>\n",
       "      <td>19.0</td>\n",
       "      <td>50.0</td>\n",
       "      <td>10.0</td>\n",
       "      <td>90.0</td>\n",
       "      <td>3</td>\n",
       "      <td>1</td>\n",
       "      <td>0</td>\n",
       "      <td>0</td>\n",
       "    </tr>\n",
       "    <tr>\n",
       "      <th>1162141</th>\n",
       "      <td>1162141</td>\n",
       "      <td>NaN</td>\n",
       "      <td>NaN</td>\n",
       "      <td>-100.0</td>\n",
       "      <td>0.0</td>\n",
       "      <td>8.0</td>\n",
       "      <td>4.398438</td>\n",
       "      <td>NaN</td>\n",
       "      <td>NaN</td>\n",
       "      <td>65.0</td>\n",
       "      <td>...</td>\n",
       "      <td>19.0</td>\n",
       "      <td>23.0</td>\n",
       "      <td>19.0</td>\n",
       "      <td>50.0</td>\n",
       "      <td>10.0</td>\n",
       "      <td>90.0</td>\n",
       "      <td>3</td>\n",
       "      <td>1</td>\n",
       "      <td>0</td>\n",
       "      <td>0</td>\n",
       "    </tr>\n",
       "    <tr>\n",
       "      <th>1162142</th>\n",
       "      <td>1162142</td>\n",
       "      <td>NaN</td>\n",
       "      <td>NaN</td>\n",
       "      <td>-100.0</td>\n",
       "      <td>0.0</td>\n",
       "      <td>8.0</td>\n",
       "      <td>4.402344</td>\n",
       "      <td>NaN</td>\n",
       "      <td>NaN</td>\n",
       "      <td>65.0</td>\n",
       "      <td>...</td>\n",
       "      <td>19.0</td>\n",
       "      <td>23.0</td>\n",
       "      <td>19.0</td>\n",
       "      <td>50.0</td>\n",
       "      <td>10.0</td>\n",
       "      <td>90.0</td>\n",
       "      <td>3</td>\n",
       "      <td>1</td>\n",
       "      <td>0</td>\n",
       "      <td>0</td>\n",
       "    </tr>\n",
       "  </tbody>\n",
       "</table>\n",
       "<p>1162143 rows × 29 columns</p>\n",
       "</div>"
      ],
      "text/plain": [
       "           index   x   y   port  rwd  block       ref  vel  acc   tri  ...  \\\n",
       "0              0 NaN NaN -100.0  0.0    1.0  0.109619  NaN  NaN   1.0  ...   \n",
       "1              1 NaN NaN -100.0  0.0    1.0  0.105225  NaN  NaN   1.0  ...   \n",
       "2              2 NaN NaN -100.0  0.0    1.0  0.100403  NaN  NaN   1.0  ...   \n",
       "3              3 NaN NaN -100.0  0.0    1.0  0.095703  NaN  NaN   1.0  ...   \n",
       "4              4 NaN NaN -100.0  0.0    1.0  0.091431  NaN  NaN   1.0  ...   \n",
       "...          ...  ..  ..    ...  ...    ...       ...  ...  ...   ...  ...   \n",
       "1162138  1162138 NaN NaN -100.0  0.0    8.0  4.390625  NaN  NaN  64.0  ...   \n",
       "1162139  1162139 NaN NaN -100.0  0.0    8.0  4.390625  NaN  NaN  64.0  ...   \n",
       "1162140  1162140 NaN NaN -100.0  0.0    8.0  4.394531  NaN  NaN  64.0  ...   \n",
       "1162141  1162141 NaN NaN -100.0  0.0    8.0  4.398438  NaN  NaN  65.0  ...   \n",
       "1162142  1162142 NaN NaN -100.0  0.0    8.0  4.402344  NaN  NaN  65.0  ...   \n",
       "\n",
       "         lenBC  lenAB  dtop  nom_rwd_a nom_rwd_b nom_rwd_c hexlabels  session  \\\n",
       "0         19.0   23.0  19.0       50.0      90.0      10.0        -1        1   \n",
       "1         19.0   23.0  19.0       50.0      90.0      10.0        -1        1   \n",
       "2         19.0   23.0  19.0       50.0      90.0      10.0        -1        1   \n",
       "3         19.0   23.0  19.0       50.0      90.0      10.0        -1        1   \n",
       "4         19.0   23.0  19.0       50.0      90.0      10.0        -1        1   \n",
       "...        ...    ...   ...        ...       ...       ...       ...      ...   \n",
       "1162138   19.0   23.0  19.0       50.0      10.0      90.0         3        1   \n",
       "1162139   19.0   23.0  19.0       50.0      10.0      90.0         3        1   \n",
       "1162140   19.0   23.0  19.0       50.0      10.0      90.0         3        1   \n",
       "1162141   19.0   23.0  19.0       50.0      10.0      90.0         3        1   \n",
       "1162142   19.0   23.0  19.0       50.0      10.0      90.0         3        1   \n",
       "\n",
       "         post-Inj  pre-Inj  \n",
       "0               0        0  \n",
       "1               0        0  \n",
       "2               0        0  \n",
       "3               0        0  \n",
       "4               0        0  \n",
       "...           ...      ...  \n",
       "1162138         0        0  \n",
       "1162139         0        0  \n",
       "1162140         0        0  \n",
       "1162141         0        0  \n",
       "1162142         0        0  \n",
       "\n",
       "[1162143 rows x 29 columns]"
      ]
     },
     "execution_count": 25,
     "metadata": {},
     "output_type": "execute_result"
    }
   ],
   "source": [
    "cokeRats.df"
   ]
  },
  {
   "cell_type": "code",
   "execution_count": 31,
   "id": "bbf16246-3ccb-4c1a-a99b-d63c2ea50429",
   "metadata": {},
   "outputs": [
    {
     "data": {
      "text/plain": [
       "975000"
      ]
     },
     "execution_count": 31,
     "metadata": {},
     "output_type": "execute_result"
    }
   ],
   "source": [
    "timeOfInj_sampleTime+20*250*60"
   ]
  },
  {
   "cell_type": "code",
   "execution_count": 26,
   "id": "9dcb853a-c46f-42cf-b313-f544e405c8a7",
   "metadata": {},
   "outputs": [
    {
     "data": {
      "text/html": [
       "<div>\n",
       "<style scoped>\n",
       "    .dataframe tbody tr th:only-of-type {\n",
       "        vertical-align: middle;\n",
       "    }\n",
       "\n",
       "    .dataframe tbody tr th {\n",
       "        vertical-align: top;\n",
       "    }\n",
       "\n",
       "    .dataframe thead th {\n",
       "        text-align: right;\n",
       "    }\n",
       "</style>\n",
       "<table border=\"1\" class=\"dataframe\">\n",
       "  <thead>\n",
       "    <tr style=\"text-align: right;\">\n",
       "      <th></th>\n",
       "      <th>level_0</th>\n",
       "      <th>index</th>\n",
       "      <th>port</th>\n",
       "      <th>rwd</th>\n",
       "      <th>block</th>\n",
       "      <th>ref</th>\n",
       "      <th>acc</th>\n",
       "      <th>tri</th>\n",
       "      <th>fiberloc</th>\n",
       "      <th>session_type</th>\n",
       "      <th>...</th>\n",
       "      <th>lenAB</th>\n",
       "      <th>dtop</th>\n",
       "      <th>nom_rwd_a</th>\n",
       "      <th>nom_rwd_b</th>\n",
       "      <th>nom_rwd_c</th>\n",
       "      <th>hexlabels</th>\n",
       "      <th>session</th>\n",
       "      <th>post-Inj</th>\n",
       "      <th>pre-Inj</th>\n",
       "      <th>lrchoice</th>\n",
       "    </tr>\n",
       "  </thead>\n",
       "  <tbody>\n",
       "  </tbody>\n",
       "</table>\n",
       "<p>0 rows × 24 columns</p>\n",
       "</div>"
      ],
      "text/plain": [
       "Empty DataFrame\n",
       "Columns: [level_0, index, port, rwd, block, ref, acc, tri, fiberloc, session_type, rat, date, lenAC, lenBC, lenAB, dtop, nom_rwd_a, nom_rwd_b, nom_rwd_c, hexlabels, session, post-Inj, pre-Inj, lrchoice]\n",
       "Index: []\n",
       "\n",
       "[0 rows x 24 columns]"
      ]
     },
     "execution_count": 26,
     "metadata": {},
     "output_type": "execute_result"
    }
   ],
   "source": [
    "salRats.triframe.loc[salRats.triframe[\"pre-Inj\"]==1].copy()"
   ]
  },
  {
   "cell_type": "code",
   "execution_count": null,
   "id": "303e31cc-f9ac-4b34-8771-26fda745ef52",
   "metadata": {},
   "outputs": [],
   "source": [
    "df = photrats.triframe.loc[photrats.triframe[\"post-Inj\"]==1].copy() if postInj\\\n",
    "    else photrats.triframe.loc[photrats.triframe[\"pre-Inj\"]==1].copy()\n",
    "df['ratcodes'] = df.rat.astype('category').cat.codes"
   ]
  },
  {
   "cell_type": "code",
   "execution_count": 17,
   "id": "0adba4c0-1538-40c8-a994-5e84159cd09c",
   "metadata": {},
   "outputs": [],
   "source": [
    "def get_log_pchoos_v_costNben(photrats,postInj=True):\n",
    "    '''if postInj is true, only consider trials after injection,\n",
    "    else, consider pre-injection time points.'''\n",
    "    df = photrats.triframe.loc[photrats.triframe[\"post-Inj\"]==1].copy() if postInj\\\n",
    "        else photrats.triframe.loc[photrats.triframe[\"pre-Inj\"]==1].copy()\n",
    "    df['ratcodes'] = df.rat.astype('category').cat.codes\n",
    "    seshs=df.session.unique()\n",
    "    for s in range(len(seshs)):\n",
    "        print(s)\n",
    "        sdf = df.loc[(df.session==seshs[s])].copy()\n",
    "        rdf = pd.DataFrame({'pRwdDif':photrats.get_lr_dif_val(\\\n",
    "            sdf,'nom_rwd'),'ldif':photrats.get_lr_dif_val(sdf,'dist')})\n",
    "        rdf['choose_L'] = sdf.lrchoice.values\n",
    "        rdf['session']=s\n",
    "        rdf['rat'] = sdf.ratcodes.values\n",
    "        rdf['tri'] = sdf.tri.values\n",
    "        rdf['block'] = sdf.block.values\n",
    "        rdf.loc[:,\"rt-1\"] = np.nan\n",
    "        sdf.reset_index(inplace=True)\n",
    "        for p in range(3):\n",
    "            lagInds = sdf.loc[sdf.port==p,:].index\n",
    "            rdf.loc[lagInds,\"rt-1\"] = sdf.loc[lagInds,'rwd'].shift(1).values\n",
    "        if s == 0:\n",
    "            photrats.regdf = rdf\n",
    "        else:\n",
    "            photrats.regdf = photrats.regdf.append(rdf,ignore_index=True)\n",
    "    photrats.regdf.loc[photrats.regdf.choose_L==2,'choose_L']=np.nan"
   ]
  },
  {
   "cell_type": "code",
   "execution_count": 15,
   "id": "2a6d8b35-0fcf-49b8-a77f-2f4c39648204",
   "metadata": {},
   "outputs": [],
   "source": [
    "def calc_choiceRegWeightsByRat(photrats):\n",
    "    try:\n",
    "        photrats.regdf\n",
    "    except:\n",
    "        print(\"choose left regDf not yet saved. Getting now...\")\n",
    "        get_log_pchoos_v_costNben(photrats)\n",
    "        add_scaledVarsToRegDf(photrats)\n",
    "    regWeights = np.zeros((len(photrats.triframe.rat.unique()),3))\n",
    "    ratSigLevels = np.zeros((len(photrats.triframe.rat.unique()),3))\n",
    "    for r in range(len(photrats.regdf.rat.unique())):\n",
    "        regDf = photrats.regdf.loc[\\\n",
    "            (photrats.regdf.rat==photrats.regdf.rat.unique()[r])&(photrats.regdf.tri>25),\\\n",
    "            [\"session\",\"choose_L\",\"rwdDifScaled\",\"lengthDifScaled\"]]\n",
    "        regDf = regDf.loc[regDf.notnull().all(axis=1),:]\n",
    "        y = regDf.loc[:,\"choose_L\"]\n",
    "        X = regDf.loc[:,[\"rwdDifScaled\",\"lengthDifScaled\"]]\n",
    "        betas,pvals = run_smLogRegWithPval(X,y)\n",
    "        regWeights[r,:] = betas\n",
    "        ratSigLevels[r,:] = pvals\n",
    "        ratRegDf = pd.DataFrame(regWeights,columns=[\"intercept\",\"relative p(R)\",\"relative distance\"])\n",
    "        ratRegDf.loc[:,[\"intercept p value\",\"relative p(R) p value\",\"relative distance p value\"]] = ratSigLevels\n",
    "    return ratRegDf"
   ]
  },
  {
   "cell_type": "code",
   "execution_count": 18,
   "id": "e34f786a-d425-42f4-a69c-d6dda2fac182",
   "metadata": {},
   "outputs": [
    {
     "ename": "AttributeError",
     "evalue": "'PhotRats' object has no attribute 'regdf'",
     "output_type": "error",
     "traceback": [
      "\u001b[1;31m---------------------------------------------------------------------------\u001b[0m",
      "\u001b[1;31mAttributeError\u001b[0m                            Traceback (most recent call last)",
      "Cell \u001b[1;32mIn[18], line 1\u001b[0m\n\u001b[1;32m----> 1\u001b[0m get_log_pchoos_v_costNben(cokeRats,postInj\u001b[38;5;241m=\u001b[39m\u001b[38;5;28;01mTrue\u001b[39;00m)\n",
      "Cell \u001b[1;32mIn[17], line 27\u001b[0m, in \u001b[0;36mget_log_pchoos_v_costNben\u001b[1;34m(photrats, postInj)\u001b[0m\n\u001b[0;32m     25\u001b[0m     \u001b[38;5;28;01melse\u001b[39;00m:\n\u001b[0;32m     26\u001b[0m         photrats\u001b[38;5;241m.\u001b[39mregdf \u001b[38;5;241m=\u001b[39m photrats\u001b[38;5;241m.\u001b[39mregdf\u001b[38;5;241m.\u001b[39mappend(rdf,ignore_index\u001b[38;5;241m=\u001b[39m\u001b[38;5;28;01mTrue\u001b[39;00m)\n\u001b[1;32m---> 27\u001b[0m photrats\u001b[38;5;241m.\u001b[39mregdf\u001b[38;5;241m.\u001b[39mloc[photrats\u001b[38;5;241m.\u001b[39mregdf\u001b[38;5;241m.\u001b[39mchoose_L\u001b[38;5;241m==\u001b[39m\u001b[38;5;241m2\u001b[39m,\u001b[38;5;124m'\u001b[39m\u001b[38;5;124mchoose_L\u001b[39m\u001b[38;5;124m'\u001b[39m]\u001b[38;5;241m=\u001b[39mnp\u001b[38;5;241m.\u001b[39mnan\n",
      "\u001b[1;31mAttributeError\u001b[0m: 'PhotRats' object has no attribute 'regdf'"
     ]
    }
   ],
   "source": [
    "get_log_pchoos_v_costNben(cokeRats,postInj=True)"
   ]
  },
  {
   "cell_type": "code",
   "execution_count": 21,
   "id": "6800817d-e82b-4e07-8b77-2b5f9f488847",
   "metadata": {},
   "outputs": [
    {
     "ename": "AttributeError",
     "evalue": "'PhotRats' object has no attribute 'regdf'",
     "output_type": "error",
     "traceback": [
      "\u001b[1;31m---------------------------------------------------------------------------\u001b[0m",
      "\u001b[1;31mAttributeError\u001b[0m                            Traceback (most recent call last)",
      "Cell \u001b[1;32mIn[21], line 1\u001b[0m\n\u001b[1;32m----> 1\u001b[0m cokeRats\u001b[38;5;241m.\u001b[39mregdf\n",
      "\u001b[1;31mAttributeError\u001b[0m: 'PhotRats' object has no attribute 'regdf'"
     ]
    }
   ],
   "source": [
    "cokeRats.regdf"
   ]
  },
  {
   "cell_type": "code",
   "execution_count": 24,
   "id": "a5f0c6a3-9b3c-484d-8e29-854eccc4b7ae",
   "metadata": {},
   "outputs": [
    {
     "ename": "AttributeError",
     "evalue": "'PhotRats' object has no attribute 'regdf'",
     "output_type": "error",
     "traceback": [
      "\u001b[1;31m---------------------------------------------------------------------------\u001b[0m",
      "\u001b[1;31mAttributeError\u001b[0m                            Traceback (most recent call last)",
      "Cell \u001b[1;32mIn[24], line 1\u001b[0m\n\u001b[1;32m----> 1\u001b[0m get_log_pchoos_v_costNben(cokeRats,postInj\u001b[38;5;241m=\u001b[39m\u001b[38;5;28;01mTrue\u001b[39;00m)\n\u001b[0;32m      2\u001b[0m add_scaledVarsToRegDf(cokeRats)\n\u001b[0;32m      3\u001b[0m cokeRats\u001b[38;5;241m.\u001b[39mregdf \u001b[38;5;241m=\u001b[39m cokeRats\u001b[38;5;241m.\u001b[39mregdf\u001b[38;5;241m.\u001b[39mloc[cokeRats\u001b[38;5;241m.\u001b[39mregdf\u001b[38;5;241m.\u001b[39mtri\u001b[38;5;241m>\u001b[39m\u001b[38;5;241m25\u001b[39m,]\n",
      "Cell \u001b[1;32mIn[18], line 26\u001b[0m, in \u001b[0;36mget_log_pchoos_v_costNben\u001b[1;34m(photrats, postInj)\u001b[0m\n\u001b[0;32m     24\u001b[0m     \u001b[38;5;28;01melse\u001b[39;00m:\n\u001b[0;32m     25\u001b[0m         photrats\u001b[38;5;241m.\u001b[39mregdf \u001b[38;5;241m=\u001b[39m photrats\u001b[38;5;241m.\u001b[39mregdf\u001b[38;5;241m.\u001b[39mappend(rdf,ignore_index\u001b[38;5;241m=\u001b[39m\u001b[38;5;28;01mTrue\u001b[39;00m)\n\u001b[1;32m---> 26\u001b[0m photrats\u001b[38;5;241m.\u001b[39mregdf\u001b[38;5;241m.\u001b[39mloc[photrats\u001b[38;5;241m.\u001b[39mregdf\u001b[38;5;241m.\u001b[39mchoose_L\u001b[38;5;241m==\u001b[39m\u001b[38;5;241m2\u001b[39m,\u001b[38;5;124m'\u001b[39m\u001b[38;5;124mchoose_L\u001b[39m\u001b[38;5;124m'\u001b[39m]\u001b[38;5;241m=\u001b[39mnp\u001b[38;5;241m.\u001b[39mnan\n",
      "\u001b[1;31mAttributeError\u001b[0m: 'PhotRats' object has no attribute 'regdf'"
     ]
    }
   ],
   "source": [
    "get_log_pchoos_v_costNben(cokeRats,postInj=True)\n",
    "add_scaledVarsToRegDf(cokeRats)\n",
    "cokeRats.regdf = cokeRats.regdf.loc[cokeRats.regdf.tri>25,]"
   ]
  },
  {
   "cell_type": "code",
   "execution_count": null,
   "id": "9841fe08-9adb-4f3e-b7dd-6de550e71860",
   "metadata": {},
   "outputs": [],
   "source": []
  }
 ],
 "metadata": {
  "kernelspec": {
   "display_name": "Python 3 (ipykernel)",
   "language": "python",
   "name": "python3"
  },
  "language_info": {
   "codemirror_mode": {
    "name": "ipython",
    "version": 3
   },
   "file_extension": ".py",
   "mimetype": "text/x-python",
   "name": "python",
   "nbconvert_exporter": "python",
   "pygments_lexer": "ipython3",
   "version": "3.11.5"
  }
 },
 "nbformat": 4,
 "nbformat_minor": 5
}
